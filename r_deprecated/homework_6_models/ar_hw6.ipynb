{
  "nbformat": 4,
  "nbformat_minor": 0,
  "metadata": {
    "colab": {
      "name": "ar_hw6.ipynb",
      "provenance": [],
      "collapsed_sections": [],
      "toc_visible": true
    },
    "kernelspec": {
      "name": "ir",
      "display_name": "R"
    }
  },
  "cells": [
    {
      "cell_type": "markdown",
      "metadata": {
        "id": "MqGisi4JIfaW"
      },
      "source": [
        "# Práctico 6 - Modelos de grafos\n",
        "\n",
        "# 1). Ambientes de trabajo\n",
        "\n",
        "## 1.a) Ambiente COLAB remoto\n",
        "\n",
        "1.   Abrir en navegador: https://colab.research.google.com/\n",
        "2.   Abrir el notebook de la tarea:\n",
        "     File-> Open Notebook -> Github -> https://github.com/prbocca/na101_master -> homework_6_models\n",
        "3.   Guardar el notebook en su Google Drive:\n",
        "     File -> Save a Copy in Drive... \n",
        "4.   Renombrar el archivo `\"cedula ID\"_ar_hw6.ipynb`, por ejemplo *33484022_ar_hw6.ipynb*\n",
        "5.   Al final usted deberá descargar el notebook. Asegurarse que se están guardando las salidas de ejecución en el notebook: File -> Download .ipynb\n",
        "6.   Luego estos archivos deberán ser enviados a prbocca@fing.edu.uy \n",
        "\n",
        "##1.b) Ambiente RSTUDIO local (opcional)\n",
        "\n",
        "Abrir el .r de la tarea en: https://github.com/prbocca/na101_master/tree/master/homework_6_models"
      ]
    },
    {
      "cell_type": "markdown",
      "metadata": {
        "id": "OngKRPsQQlIY"
      },
      "source": [
        "## 1.c) Cargar Librerias\n",
        "\n",
        "Todas las librerías deben instalarse correctamente, si el proceso se interrumpe o alguna librería da error en la instalación, entonces habrá problemas en el código más adelante. Si tiene este tipo de problemas pruebe hacer `Runtime -> Factory reset runtime`, y volver a intentar.\n"
      ]
    },
    {
      "cell_type": "code",
      "metadata": {
        "id": "vTO20P1OQpvV"
      },
      "source": [
        "# cargar librerias\n",
        "load_libs <- function(libraries = libs, install=TRUE){\n",
        "  if (install){ # instalar librerias no instaladas\n",
        "    new.packages <- libs[!(libs %in% installed.packages()[,\"Package\"])]\n",
        "    if(length(new.packages)) install.packages(new.packages)\n",
        "  }\n",
        "  #cargo librerias  \n",
        "  for (lib in libraries){\n",
        "    require(lib, character.only=TRUE, quietly = FALSE)\n",
        "  } \n",
        "} \n",
        "\n",
        "libs = c(\"sand\",\"igraph\") \n",
        "\n",
        "load_libs(libs)"
      ],
      "execution_count": null,
      "outputs": []
    },
    {
      "cell_type": "markdown",
      "metadata": {
        "id": "aUUxATTIRUFD"
      },
      "source": [
        "## 1.d) Descargar funciones auxiliares"
      ]
    },
    {
      "cell_type": "code",
      "metadata": {
        "id": "XBT_zZlNRVsS"
      },
      "source": [
        "#directorio donde se va a trabajar\n",
        "data_path = \"/content/ar/hw6/\"\n",
        "\n",
        "dir.create(data_path, showWarnings = FALSE, recursive = TRUE)\n",
        "setwd(data_path)\n",
        "getwd()\n",
        "list.files()\n",
        "\n",
        "# cargo funciones auxiliares\n",
        "source(\"https://raw.githubusercontent.com/prbocca/na101_master/master/homeworks_common.r\")"
      ],
      "execution_count": null,
      "outputs": []
    },
    {
      "cell_type": "markdown",
      "metadata": {
        "id": "3a65sDbZLHAG"
      },
      "source": [
        "# 2). Modelos clásicos de grafos en `R`\n",
        "\n",
        "Seguir las Secciones 5.1 y 5.2 del libro [SANDR], ejecutando el código fuente incluido."
      ]
    },
    {
      "cell_type": "code",
      "metadata": {
        "id": "rpdKjPjrLbCX"
      },
      "source": [
        "#5.1 Introduction\n",
        "#5.2 Classical Random Graph Models\n",
        "\n",
        "#The function erdos.renyi.game in igraph can be used to simulate classical\n",
        "#random graphs of either type. Figure 5.1 shows a realization of a classical random\n",
        "#graph, based on the choice of N v = 100 vertices and a probability of p = 0.02 of an\n",
        "#edge between any pair of vertices. Using a circular layout, we can see that the edges\n",
        "#appear to be scattered between vertex pairs in a fairly uniform manner, as expected.\n",
        "set.seed(42)\n",
        "g.er <- erdos.renyi.game(100, 0.02)\n",
        "plot(g.er, layout=layout.circle, vertex.label=NA)\n",
        "\n",
        "# Note that random graphs generated in the manner described above need not be connected.\n",
        "is.connected(g.er)\n",
        "#2 [1] FALSE\n",
        "\n",
        "#Although this particular realization is not connected, it does nevertheless have a\n",
        "# giant component, containing 71 of the 100 vertices. All other components contain\n",
        "#between one and four vertices only.\n",
        "table(sapply(decompose.graph(g.er), vcount))\n",
        "# 3 1 2 3 4 71\n",
        "#4 15 2 2 1 1\n",
        "#In general, a classical random graph G will with high probability have a giant com-\n",
        "#ponent if p = c/N v for some c > 1.\n",
        "\n",
        "# Under this same parameterization for p, for c > 0, the degree distribution will\n",
        "# be well-approximated by a Poisson distribution, with mean c, for large N v .\n",
        "# Indeed, in our simulated random graph, the mean degree is quite close to the\n",
        "# expected value of (100 − 1) × 0.02 = 1.98.\n",
        "mean(degree(g.er))\n",
        "\n",
        "# Furthermore, we see that the degree distribution is quite homogeneous.\n",
        "hist(degree(g.er), col=\"lightblue\", xlab=\"Degree\", ylab=\"Frequency\", main=\"\")\n",
        "\n",
        "#Other properties of classical random graphs include that there are relatively few\n",
        "#vertices on shortest paths between vertex pairs72\n",
        "average.path.length(g.er)\n",
        "#[1] 5.276511\n",
        "diameter(g.er)\n",
        "#[1] 14\n",
        "#and that there is low clustering.\n",
        "transitivity(g.er)\n",
        "#[1] 0.01639344\n",
        "# More specifically, under the conditions above, it can be shown that the diameter\n",
        "# varies like O(log N v ), and the clustering coefficient, like N v −1."
      ],
      "execution_count": null,
      "outputs": []
    },
    {
      "cell_type": "markdown",
      "metadata": {
        "id": "vtJG66BOMPs0"
      },
      "source": [
        "# 3). Distribución de grado de Erdös-Renyi, $G(n, p)$ , en `R`. \n",
        "\n",
        "Utilizando la función `erdos.renyi.game()` generar grafos aleatorios de distinto orden.\n"
      ]
    },
    {
      "cell_type": "markdown",
      "metadata": {
        "id": "W7iWn_T_QHNW"
      },
      "source": [
        "## 3.a) Crecer la cantidad de vértices\n",
        "\n",
        "Si fijamos $p = 0.02$, al crecer la cantidad de vértices: \n",
        "¿qué sucede con el grado promedio?, y \n",
        "¿la distribución de grado se acerca a una Normal o a una Poisson? \n",
        "\n",
        "Verificar comparando el histograma con la distribución teórica para $n \\in \\{10, 100, 1000, 10000\\}$."
      ]
    },
    {
      "cell_type": "code",
      "metadata": {
        "id": "s-rjqR9pzRaH"
      },
      "source": [
        "# Gnp: efecto de crecer la red, se aproxima a una normal\n",
        "par(mfrow=c(3,2))\n",
        "p=0.02\n",
        "for (i in 1:5){\n",
        "  n = 10^i\n",
        "  g.er <- erdos.renyi.game(n, p.or.m=p, type=\"gnp\")\n",
        "  #hist(degree(g.er), probability = T, col=\"lightblue\", xlab=\"Degree\", ylab=\"Probabilities\", main=\"\")\n",
        "  g.er.dd = degree_distribution(g.er)\n",
        "  plot(g.er.dd, xlab=\"Degree\", ylab=\"Probabilities\", main=paste(\"n=\",n))\n",
        "  x = seq(from=1,to=length(g.er.dd), by=1)\n",
        "  lines(x, dnorm(x, mean = n*p, sd = sqrt(n*p*(1-p))), type=\"l\",col=\"red\")\n",
        "  print(paste(\"n =\",n,\", grado promedio =\", mean(degree(g.er))))\n",
        "}\n",
        "\n",
        "par(mfrow=c(1,1))"
      ],
      "execution_count": null,
      "outputs": []
    },
    {
      "cell_type": "markdown",
      "metadata": {
        "id": "U5KlbzpnQamR"
      },
      "source": [
        "## 3.b) Crecer la cantidad de vértices y obtener una distribución de Poisson\n",
        "\n",
        "¿Cómo debemos cambiar el parámetro $p$ del modelo al crecer $n$ para que la  distribución tienda a una Poisson? \n",
        "\n",
        "Verificar comparando el histograma con la distribución de Poisson para $n \\in \\{10, 100, 1000, 10000\\}$ y un grado promedio de $1.8$.\n",
        "\n",
        "Nota: Los parámtros de la distribución teórica fueron vistos en las clases teóricas."
      ]
    },
    {
      "cell_type": "code",
      "metadata": {
        "id": "GZr4Y14TRcF8"
      },
      "source": [
        "##################################################################\n",
        "#                       TU CÓDIGO ACÁ                           \n",
        "# Tip: similar a 3.a), los parámtros de la distribución teórica fueron vistos en las clases teóricas.\n",
        "#\n",
        "#\n",
        "#\n",
        "##################################################################"
      ],
      "execution_count": null,
      "outputs": []
    },
    {
      "cell_type": "markdown",
      "metadata": {
        "id": "fCuky54tNanB"
      },
      "source": [
        "# 4). Otros modelos de grafos en `R`.\n",
        "\n",
        "Seguir las Secciones 5.3 y 5.4 del libro [SANDR], ejecutando el código fuente incluido. En ellas se explican los modelos de configuración, acoplamiento preferencial, Barabási-Albert, y mundo pequeño.\n"
      ]
    },
    {
      "cell_type": "code",
      "metadata": {
        "id": "mX94nN8ISVR1"
      },
      "source": [
        "# 5.3 Generalized Random Graph Models\n",
        "\n",
        "set.seed(42)\n",
        "\n",
        "# The igraph function degree.sequence.game can be used to uniformly\n",
        "# sample random graphs with fixed degree sequence. Suppose, for example, that we\n",
        "# are interested in graphs of N v = 8 vertices, half of which have degree d = 2, and the\n",
        "# other half, degree d = 3. Two examples of such graphs, drawn uniformly from the\n",
        "# collection of all such graphs, are shown in Fig. 5.2.\n",
        "degs <- c(2,2,2,2,3,3,3,3)\n",
        "g1 <- degree.sequence.game(degs, method=\"vl\")\n",
        "g2 <- degree.sequence.game(degs, method=\"vl\")\n",
        "plot(g1, vertex.label=NA)\n",
        "plot(g2, vertex.label=NA)\n",
        "\n",
        "#Note that these two graphs do indeed differ, in that they are not isomorphic. \n",
        "graph.isomorphic(g1, g2)\n",
        "#[1] FALSE\n",
        "\n",
        "# For a fixed number of vertices N v , the collection of random graphs with fixed\n",
        "# degree sequence all have the same number of edges N e , due to the relation d  ̄ =\n",
        "# 2N e /N v , where d  ̄ is the mean degree of the sequence (d (1) , . . . , d (N v ) ).\n",
        "c(ecount(g1), ecount(g2))\n",
        "#[1] 10 10\n",
        "\n",
        "\n",
        "# On the other hand, it is important to keep in mind that all other characteristics\n",
        "# are free to vary to the extent allowed by the chosen degree sequence. For example,\n",
        "# we can generate a graph with the same degree sequence as our network of protein–\n",
        "# protein interactions in yeast.\n",
        "data(yeast)\n",
        "degs <- degree(yeast)\n",
        "fake.yeast <- degree.sequence.game(degs, method=c(\"vl\"))\n",
        "all(degree(yeast) == degree(fake.yeast))\n",
        "# [1] TRUE\n",
        "\n",
        "#But the original network has twice the diameter of the simulated version\n",
        "diameter(yeast)\n",
        "# [1] 15\n",
        "diameter(fake.yeast)\n",
        "# [1] 8\n",
        "\n",
        "# and virtually all of the substantial amount of clustering originally present is now gone.\n",
        "transitivity(yeast)\n",
        "#[1] 0.4686178\n",
        "transitivity(fake.yeast)\n",
        "#[1] 0.0396504\n"
      ],
      "execution_count": null,
      "outputs": []
    },
    {
      "cell_type": "code",
      "metadata": {
        "id": "X32KuE8eTxNs"
      },
      "source": [
        "# 5.4 Network Graph Models Based on Mechanisms\n",
        "\n",
        "set.seed(42)\n",
        "\n",
        "# 5.4.1 Small-World Models\n",
        "# Work on modeling of this type received a good deal of its impetus from the seminal\n",
        "# paper of Watts and Strogatz [146] and the ‘small-world’ network model introduced\n",
        "# therein. These authors were intrigued by the fact that many networks in the real\n",
        "# world display high levels of clustering, but small distances between most nodes.\n",
        "#\n",
        "# In order to create a network graph with both of these properties, Watts and Strogatz \n",
        "# suggested instead beginning with a graph with lattice structure, and then randomly \n",
        "# ‘rewiring’ a small percentage of the edges. More specifically, in this model\n",
        "# we begin with a set of N v vertices, arranged in a periodic fashion, and join each\n",
        "# vertex to r of its neighbors to each side. Then, for each edge, independently and\n",
        "# with probability p, one end of that edge will be moved to be incident to another\n",
        "# vertex, where that new vertex is chosen uniformly, but with attention to avoid the\n",
        "# construction of loops and multi-edges.\n",
        "# An example of a small-world network graph of this sort can be generated in\n",
        "# igraph using the function watts.strogatz.game.\n",
        "\n",
        "g.ws <- watts.strogatz.game(1, 25, 5, 0.05)\n",
        "plot(g.ws, layout=layout.circle, vertex.label=NA)\n",
        "\n",
        "# For the lattice alone, which we generate by setting p = 0, there is a substantial amount of clustering.\n",
        "g.lat100 <- watts.strogatz.game(1, 100, 5, 0)\n",
        "plot(g.lat100, layout=layout.circle, vertex.label=NA)\n",
        "transitivity(g.lat100)\n",
        "#[1] 0.6666667\n",
        "#But the distance between vertices is non-trivial.\n",
        "diameter(g.lat100)\n",
        "#[1] 10\n",
        "average.path.length(g.lat100)\n",
        "#[1] 5.454545\n",
        "\n",
        "#The effect of rewiring a relatively small number of edges in a random fashion is to\n",
        "# noticeably reduce the distance between vertices, while still maintaining a similarly\n",
        "# high level of clustering.\n",
        "g.ws100 <- watts.strogatz.game(1, 100, 5, 0.05)\n",
        "plot(g.ws100, layout=layout.circle, vertex.label=NA)\n",
        "diameter(g.ws100)\n",
        "#[1] 5\n",
        "average.path.length(g.ws100)\n",
        "#[1] 2.793939393\n",
        "transitivity(g.ws100)\n",
        "#[1] 0.5121305\n",
        "\n",
        "\n",
        "# This effect may be achieved even with very small p. To illustrate, we simulate ac-\n",
        "# cording to a particular Watts-Strogatz small-world network model, with N v = 1, 000\n",
        "#and r = 10, and re-wiring probability p, as p varies over a broad range.\n",
        "steps <- seq(-4, -0.5, 0.1)\n",
        "len <- length(steps)\n",
        "cl <- numeric(len)\n",
        "apl <- numeric(len)\n",
        "ntrials <- 100\n",
        "for (i in (1:len)) {\n",
        "  cltemp <- numeric(ntrials)\n",
        "  apltemp <- numeric(ntrials)\n",
        "  for (j in (1:ntrials)) {\n",
        "    g <- watts.strogatz.game(1, 1000, 10, 1^steps[i])\n",
        "    cltemp[j] <- transitivity(g)\n",
        "    apltemp[j] <- average.path.length(g)\n",
        "  }\n",
        "  cl[i] <- mean(cltemp)\n",
        "  apl[i] <- mean(apltemp)\n",
        "}\n",
        "# The results shown in Fig. 5.4, where approximate expected values for normalized\n",
        "# versions of average path length and clustering coefficient are plotted, indicate that\n",
        "# over a substantial range of p the network exhibits small average distance while main-\n",
        "# taining a high level of clustering.\n",
        "plot(steps, cl/max(cl), ylim=c(0, 1), lwd=3, type=\"l\", col=\"blue\", xlab=expression(log[10](p)),\n",
        "  ylab=\"Clustering and Average Path Length\")\n",
        "lines(steps, apl/max(apl), lwd=3, col=\"red\")"
      ],
      "execution_count": null,
      "outputs": []
    },
    {
      "cell_type": "code",
      "metadata": {
        "id": "cRlp7CoHVv7k"
      },
      "source": [
        "# 5.4.2 Preferential Attachment Models\n",
        "\n",
        "# Many networks grow or otherwise evolve in time. The World Wide Web and\n",
        "# scientific citation networks are two obvious examples. Similarly, many biological\n",
        "# networks may be viewed as evolving as well, over appropriately defined time scales.\n",
        "# Much energy has been invested in the development of models that mimic network growth.\n",
        "# In this arena, typically a simple mechanism(s) is specified for how the network\n",
        "# changes at any given point in time, based on concepts like vertex preference, fitness,\n",
        "# copying, age, and the like. A celebrated example of such a mechanism is that of\n",
        "# preferential attachment, designed to embody the principle that ‘the rich get richer.’\n",
        "# ...\n",
        "\n",
        "# Using the igraph function barabasi.game, we can simulate a BA random\n",
        "# graph of, for example, N v = 100 vertices, with m = 1 new edges added for each new vertex.\n",
        "set.seed(42)\n",
        "g.ba <- barabasi.game(100, directed=FALSE)\n",
        "# A visualization of this graph is shown in Fig. 5.5.\n",
        "plot(g.ba, layout=layout.circle, vertex.label=NA)\n",
        "\n",
        "# Note that the edges are spread among vertex pairs in a decidedly less uniform man-\n",
        "# ner than in the classical random graph we saw in Fig. 5.1. And, in fact, there appear\n",
        "# to be vertices of especially high degree—so-called ‘hub’ vertices.\n",
        "# Examination of the degree distribution (also shown in Fig. 5.5)\n",
        "hist(degree(g.ba), col=\"lightblue\", xlab=\"Degree\", ylab=\"Frequency\", main=\"\")\n",
        "# confirms this suspicion, and indicates, moreover, that the overall distribution is quite\n",
        "# heterogeneous. Actually, the vast majority of vertices have degree no more than two\n",
        "# in this graph, while, on the other hand, one vertex has a degree of 11.\n",
        "summary(degree(g.ba))\n",
        "#Min. 1st Qu. Median Mean 3rd Qu. Max.\n",
        "#1.00 1.00 1.00 1.98 2.00 11.00\n",
        "\n",
        "# On the other hand, network graphs generated according to the BA model will\n",
        "# share with their classical counterparts the tendency towards relatively few vertices\n",
        "# on shortest paths between vertex pairs\n",
        "average.path.length(g.ba)\n",
        "# [1] 5.81555555555556\n",
        "diameter(g.ba)\n",
        "# [1] 12\n",
        "#and low clustering.\n",
        "transitivity(g.ba)\n",
        "# [1] 0\n"
      ],
      "execution_count": null,
      "outputs": []
    },
    {
      "cell_type": "markdown",
      "metadata": {
        "id": "4sn6SRiWO6_L"
      },
      "source": [
        "# 5). Distribución de grado de Barabási-Albert en `R`.\n",
        "\n",
        "Verificar que el modelo de Barabasi-Albert tiende a una distribución power-law de parámetro $\\alpha = 3$ al crecer $n$. \n",
        "Para esto graficar la función de distribución acumulada complementaria (CCDF) en conjunto con la recta teórica de la power-law. Usar los $n \\in \\{10, 100, 1000, 10000, 100000, 1000000\\}$. \n",
        "Para cada caso, encontrar el $\\hat{\\alpha}$ usando la función de ajuste de igraph, llamada `power.law.fit()`. \n",
        "Además entender el test de hipótesis que se realiza en el ajuste, e interpretar el p-value del resultado."
      ]
    },
    {
      "cell_type": "code",
      "metadata": {
        "id": "XacxQhxgZRkM"
      },
      "source": [
        "# BA: efecto de crecer la red\n",
        "set.seed(42)\n",
        "par(mfrow=c(3,2))\n",
        "\n",
        "for (i in 1:6){\n",
        "  n = 10^i\n",
        "  g.ba = barabasi.game(n)\n",
        "  \n",
        "  # Degree distribution is the cumulative frequency of nodes with a given degree\n",
        "  # this, like degree() can be specified as \"in\", \"out\", or \"all\"\n",
        "  g.ba.dd = degree.distribution(g.ba, cumulative=T,mode=\"all\")\n",
        "  g.ba.d = degree(g.ba,v=V(g.ba),mode=\"all\")\n",
        "  \n",
        "  # Using the power.law.fit() function I can fit a power law to the degree distribution\n",
        "  # Plot degree distribution histogram, and theoretical line\n",
        "  g.ba.power = NA\n",
        "  ##################################################################\n",
        "  #                       TU CÓDIGO ACÁ                           \n",
        "  #\n",
        "  #\n",
        "  #\n",
        "  ##################################################################\n",
        "  print(paste(\"n =\",n,\", alpha =\", g.ba.power$alpha, \", xmin =\", g.ba.power$xmin))\n",
        "}"
      ],
      "execution_count": null,
      "outputs": []
    },
    {
      "cell_type": "markdown",
      "metadata": {
        "id": "9QWHWBVZcVy2"
      },
      "source": [
        "# 6) Distribución de grado de una red real.\n",
        "\n",
        "Mark Newman en 2006 creó un grafo de routers en Internet, con 22963 vértices y 48436 aristas. \n",
        "Descargar el grafo en formato GML desde:\n",
        "https://github.com/prbocca/na101_master/raw/master/homework_6_models/internet_routers-22july06.gml.zip\n"
      ]
    },
    {
      "cell_type": "markdown",
      "metadata": {
        "id": "v_mkTaNaYq3b"
      },
      "source": [
        "## 6.a) Descargar los datos\n",
        "\n",
        "Descargar los datos en formato `GML` en el siguiente link: \n",
        "https://github.com/prbocca/na101_master/raw/master/homework_6_models/internet_routers-22july06.gml.zip.\n",
        "\n",
        "Cargar los datos en `R`."
      ]
    },
    {
      "cell_type": "code",
      "metadata": {
        "id": "ozLpcVfJPZFR"
      },
      "source": [
        "# download data\n",
        "download.file(url=\"https://github.com/prbocca/na101_master/raw/master/homework_6_models/internet_routers-22july06.gml.zip\", destfile=\"internet_routers-22july06.gml.zip\", mode=\"wb\")\n",
        "unzip(zipfile=\"internet_routers-22july06.gml.zip\")\n",
        "list.files()\n",
        "\n",
        "# cargar datos\n",
        "g.real = NA\n",
        "##################################################################\n",
        "#                       TU CÓDIGO ACÁ                           \n",
        "# Tip: usar funciones de igraph\n",
        "#\n",
        "#\n",
        "#\n",
        "##################################################################\n",
        "summary(g.real)"
      ],
      "execution_count": null,
      "outputs": []
    },
    {
      "cell_type": "markdown",
      "metadata": {
        "id": "Qy8ixyvseshx"
      },
      "source": [
        "## 6.b) (Opcional) Visualizar el grafo en Gephi\n",
        "\n",
        "Visualizar los vértices de mayor grado con mayor tamaño,\n",
        "y los vértices con mayor PageRank más oscuros.\n",
        "\n",
        "El resultado debe ser similar al de la siguiente Figura: ![alt text](https://github.com/prbocca/na101_master/raw/master/homework_6_models/routers_gephi.png)"
      ]
    },
    {
      "cell_type": "markdown",
      "metadata": {
        "id": "1rN_ycvefB2k"
      },
      "source": [
        "## 6.c) En `R`, graficar la distribución de grado.\n",
        "\n",
        "También graficar con ejes log-log para una mejor visualización."
      ]
    },
    {
      "cell_type": "code",
      "metadata": {
        "id": "wUqKNPhkP59x"
      },
      "source": [
        "# graficar distribución de grado de g.real\n",
        "##################################################################\n",
        "#                       TU CÓDIGO ACÁ                           \n",
        "# Tip: usar funciones de igraph\n",
        "#\n",
        "#\n",
        "#\n",
        "##################################################################\n"
      ],
      "execution_count": null,
      "outputs": []
    },
    {
      "cell_type": "markdown",
      "metadata": {
        "id": "xrZPRN2-QXKw"
      },
      "source": [
        "## 6.d) Graficar la función de distribución acumulada complementaria (CCDF).\n"
      ]
    },
    {
      "cell_type": "code",
      "metadata": {
        "id": "xTB-9PhQQ8pu"
      },
      "source": [
        "# graficar CCDF de g.real\n",
        "##################################################################\n",
        "#                       TU CÓDIGO ACÁ                           \n",
        "# Tip: usar funciones de igraph\n",
        "#\n",
        "#\n",
        "#\n",
        "##################################################################"
      ],
      "execution_count": null,
      "outputs": []
    },
    {
      "cell_type": "markdown",
      "metadata": {
        "id": "AtizxOXYRnsp"
      },
      "source": [
        "## 6.e) Austar una distribución Power-law\n",
        "\n",
        "Ajustar la distribución a una power-law. \n",
        "\n",
        "¿Cuál es el $\\hat{\\alpha}$ y el $d_{min}$ del ajuste? \n",
        "\n",
        "¿Cómo interpretar el $p-value$ del test de hipotesis del resultado del ajuste? \n",
        "\n",
        "Verificar las conclusiones comparando la CCDF con la recta ajustada. La gráfica debería ser similar a la siguiente: ![alt text](https://github.com/prbocca/na101_master/raw/master/homework_6_models/routers_powerlaw.png)\n"
      ]
    },
    {
      "cell_type": "code",
      "metadata": {
        "id": "04qvmy-niAt4"
      },
      "source": [
        "# graficar la CCDF de g.real, y la distribución power-low ajustada\n",
        "g.real.power = NA\n",
        "##################################################################\n",
        "#                       TU CÓDIGO ACÁ                           \n",
        "# Tip: usar funciones de igraph\n",
        "#\n",
        "#\n",
        "#\n",
        "##################################################################\n",
        "print(paste(\"El alpha estimado es =\",g.real.power$alpha))\n"
      ],
      "execution_count": null,
      "outputs": []
    }
  ]
}