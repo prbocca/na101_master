{
  "nbformat": 4,
  "nbformat_minor": 0,
  "metadata": {
    "colab": {
      "name": "ar_hw8.ipynb",
      "provenance": [],
      "collapsed_sections": [],
      "toc_visible": true
    },
    "kernelspec": {
      "name": "ir",
      "display_name": "R"
    }
  },
  "cells": [
    {
      "cell_type": "markdown",
      "metadata": {
        "id": "zxljf-xtQosC",
        "colab_type": "text"
      },
      "source": [
        "# Práctico 8 - Predecir información faltante en redes\n",
        "\n",
        "# 1. Ambientes de trabajo\n",
        "\n",
        "## 1.a) Ambiente COLAB remoto\n",
        "\n",
        "1.   Abrir en navegador: https://colab.research.google.com/\n",
        "2.   Abrir el notebook de la tarea:\n",
        "     File-> Open Notebook -> Github -> https://github.com/prbocca/na101_master -> homework_8_prediction\n",
        "3.   Guardar el notebook en su Google Drive:\n",
        "     File -> Save a Copy in Drive... \n",
        "4.   Renombrar el archivo `\"cedula ID\"_ar_hw8.ipynb`, por ejemplo *33484022_ar_hw8.ipynb*\n",
        "5.   Al final usted deberá descargar el notebook. Asegurarse que se están guardando las salidas de ejecución en el notebook: File -> Download .ipynb\n",
        "6.   Luego estos archivos deberán ser enviados a prbocca@fing.edu.uy \n",
        "\n",
        "##1.b) Ambiente RSTUDIO local (opcional)\n",
        "\n",
        "Abrir el .r de la tarea en: https://github.com/prbocca/na101_master/tree/master/homework_8_prediction"
      ]
    },
    {
      "cell_type": "markdown",
      "metadata": {
        "id": "OngKRPsQQlIY",
        "colab_type": "text"
      },
      "source": [
        "## 1.c) Cargar Librerias"
      ]
    },
    {
      "cell_type": "code",
      "metadata": {
        "id": "vTO20P1OQpvV",
        "colab_type": "code",
        "colab": {}
      },
      "source": [
        "# cargar librerias\n",
        "load_libs <- function(libraries = libs, install=TRUE){\n",
        "  if (install){ # instalar librerias no instaladas\n",
        "    new.packages <- libs[!(libs %in% installed.packages()[,\"Package\"])]\n",
        "    if(length(new.packages)) install.packages(new.packages)\n",
        "  }\n",
        "  #cargo librerias  \n",
        "  for (lib in libraries){\n",
        "    require(lib, character.only=TRUE, quietly = FALSE)\n",
        "  } \n",
        "} \n",
        "\n",
        "libs = c(\"ROCR\", #evaluacion de problemas de clasificacion\n",
        "         \"rgexf\", #igraph to gephi\n",
        "         \"vioplot\",  \"cowplot\",\n",
        "         # \"org.Sc.sgd.db\", \"GOstats\", \"GO.db\", #parecen no estar disponibles en el ambiente COLAB y los instalaremos luego de otra manera\n",
        "         \"foreach\", \"doMC\", #procesamiento en paralelo\n",
        "         \"sand\",\"igraph\", \"ggplot2\", \"reshape2\") #las basicas\n",
        "\n",
        "load_libs(libs)"
      ],
      "execution_count": 0,
      "outputs": []
    },
    {
      "cell_type": "markdown",
      "metadata": {
        "id": "aUUxATTIRUFD",
        "colab_type": "text"
      },
      "source": [
        "## 1.d) Descargar funciones auxiliares"
      ]
    },
    {
      "cell_type": "code",
      "metadata": {
        "id": "XBT_zZlNRVsS",
        "colab_type": "code",
        "colab": {}
      },
      "source": [
        "#directorio donde se va a trabajar\n",
        "data_path = \"/content/ar/hw8/\"\n",
        "\n",
        "dir.create(data_path, showWarnings = FALSE, recursive = TRUE)\n",
        "setwd(data_path)\n",
        "getwd()\n",
        "list.files()\n",
        "\n",
        "# cargo funciones auxiliares\n",
        "source(\"https://raw.githubusercontent.com/prbocca/na101_master/master/homeworks_common.r\")"
      ],
      "execution_count": 0,
      "outputs": []
    },
    {
      "cell_type": "markdown",
      "metadata": {
        "id": "JXslvRDgXTjs",
        "colab_type": "text"
      },
      "source": [
        "# 2. Predicción de enlaces en `R`.\n",
        "\n",
        "Seguir las Secciones 7.1 y 7.2 del libro [SANDR], ejecutando el código fuente incluido.\n"
      ]
    },
    {
      "cell_type": "code",
      "metadata": {
        "id": "CWu2EcySX5Xu",
        "colab_type": "code",
        "colab": {}
      },
      "source": [
        "# Chapter 7 Network Topology Inference\n",
        "# 7.1 Introduction\n",
        "# 7.2 Link Prediction SANDR (esta es el tutorial de SANDR incluido como ejercicio)\n",
        "#########################################################\n",
        "# To illustrate the potential of simple scoring methods like this, recall the network\n",
        "# fblog of French political blogs. The number of nearest common neighbors for\n",
        "# each pair of vertices in this network, excluding—if incident to each other—the two\n",
        "# vertices themselves, may be computed in the following manner.\n",
        "#library(sand)\n",
        "fblog = upgrade_graph(fblog)  #evita warnings por ser un grafo en version vieja\n",
        "nv <- vcount(fblog)\n",
        "ncn <- numeric()\n",
        "A <- get.adjacency(fblog)\n",
        "for(i in (1:(nv-1))){\n",
        "  ni <- neighborhood(fblog, 1, i)\n",
        "  nj <- neighborhood(fblog, 1, (i+1):nv)\n",
        "  nbhd.ij <- mapply(intersect, ni, nj, SIMPLIFY=FALSE)\n",
        "  temp <- unlist(lapply(nbhd.ij, length)) -\n",
        "    2 * A[i, (i+1):nv]\n",
        "  ncn <- c(ncn, temp)\n",
        "}"
      ],
      "execution_count": 0,
      "outputs": []
    },
    {
      "cell_type": "code",
      "metadata": {
        "id": "DxCsbjnzX7lb",
        "colab_type": "code",
        "colab": {}
      },
      "source": [
        "# In Fig. 7.2 we compare the scores s(i, j) for those vertex pairs that are not incident\n",
        "# to each other (i.e., ‘no edge’), and those that are (i.e., ‘edge’), using so-called violin\n",
        "# plots.\n",
        "#library(vioplot)\n",
        "Avec <- A[lower.tri(A)]\n",
        "vioplot(ncn[Avec==0], ncn[Avec==1],\n",
        "        names=c(\"No Edge\", \"Edge\"))\n",
        "title(ylab=\"Number of Common Neighbors\")"
      ],
      "execution_count": 0,
      "outputs": []
    },
    {
      "cell_type": "code",
      "metadata": {
        "id": "hSuUOwNJYBH1",
        "colab_type": "code",
        "colab": {}
      },
      "source": [
        "# It is evident from this comparison that there is a decided tendency towards larger\n",
        "# scores when there is in fact an edge present. Viewing the calculation we have done\n",
        "# here as a ‘leave-one-out’ cross-validation, and calculating the area under the curve\n",
        "# (AUC) of the corresponding ROC curve,\n",
        "#library(ROCR)\n",
        "pred <- prediction(ncn, Avec)\n",
        "perf <- performance(pred, \"auc\")\n",
        "slot(perf, \"y.values\")\n",
        "\n",
        "#agrego el plot de la curva ROC\n",
        "roc.perf = performance(pred, measure = \"tpr\", x.measure = \"fpr\")\n",
        "plot(roc.perf, col=\"red\")\n",
        "abline(a=0, b= 1)"
      ],
      "execution_count": 0,
      "outputs": []
    },
    {
      "cell_type": "markdown",
      "metadata": {
        "id": "0cYmwzpcY1j5",
        "colab_type": "text"
      },
      "source": [
        "$\\def\\ccalN{{\\mathcal N}}$\n",
        "\n",
        "# 3. Predicción de aristas en redes reales.\n",
        "\n",
        "En este ejercicio veremos que tan bien funcionan los métodos informales de *score* para predecir enlaces en distintas redes. Este ejercicio fue originalmente propuesto por el Prof. Aaron Clauset, en su curso \"Network Analysis and Modeling\", CSCI 5352, del Santa Fe Institute.\n",
        "\n",
        "Como vimos, los métodos informales de predicción de enlaces basados en *score* definen una medida de enlace para todo par de vértices que no son aristas (es decir, definen el *score*, $s(i,j)$, para todo $(i,j) \\notin E^{obs}$), y predicen las aristas faltantes como aquellas parejas con mayor `score`.\n",
        "Hay muchas funciones de `score` posibles, en este ejercicio probaremos tres:\n",
        "*   camino más corto: $s(i,j)= \\frac{1}{dist_{G^{obs}}(i,j)}$, siendo $dist_{G^{obs}}(i, j)$ la distancia geodésica observada entre los vértices $i$ y $j$ en el grafo observado;\n",
        "\n",
        "*   vecinos en común: $s(i,j)=|\\ccalN_i^{obs}\\cap \\ccalN_j^{obs}|$; y\n",
        "\n",
        "*   producto de grados observados: $s(i,j)= d_i d_j$."
      ]
    },
    {
      "cell_type": "markdown",
      "metadata": {
        "id": "wn0-egnJbKDt",
        "colab_type": "text"
      },
      "source": [
        "## 3.a) Descargar y cargar la red de la enfermedad de Malaria.\n",
        "\n",
        "Existen muchas representaciones en red de las relaciones entre los genes para la enfermedad de la Malaria. \n",
        "Usaremos la red de: *D. B. Larremore, A. Clauset, and C. O. Buckee, \"A network approach to analyzing highly recombinant malaria parasite genes.\" PLOS Computational Biology 9(10), e1003268 (2013).* \n",
        "\n",
        "Esta red tiene $307$ vértices y $2684$ aristas.\n",
        "Los vértices son genes, y dos genes están conectados si ellos comparten un substring cuyo largo es estadísticamente significativo. Se tiene una etiqueta en los vértices que clasifica los genes.\n",
        "Visualizar la red en la siguiente Figura (el color de los vértices es la etiqueta de clasificación, y el tamaño representa el grado): ![alt text](https://github.com/prbocca/na101_master/raw/master/homework_8_prediction/g_malaria.png)\n",
        "\n",
        "Descargar el grafo desde: https://github.com/prbocca/na101_master/raw/master/homework_8_prediction/g_malaria.graphml."
      ]
    },
    {
      "cell_type": "code",
      "metadata": {
        "id": "Xe_oEDhvcadh",
        "colab_type": "code",
        "colab": {}
      },
      "source": [
        "# descargar y cargar datos\n",
        "g_malaria = NA\n",
        "##################################################################\n",
        "#                       TU CÓDIGO ACÁ                           \n",
        "# Tip: -\n",
        "#\n",
        "#\n",
        "#\n",
        "##################################################################\n",
        "summary(g_malaria)\n",
        "\n",
        "#plot\n",
        "set.seed(25)\n",
        "E(g_malaria)$color = \"gray\"\n",
        "plot(g_malaria, edge.color=\"gray\", edge.width=1, edge.lty=1, edge.arrow.size=.5, \n",
        "     vertex.color=V(g_malaria)$label, vertex.size=3, vertex.label=NA,\n",
        "     layout=layout_with_drl(g_malaria), main=\"Malaria\")\n"
      ],
      "execution_count": 0,
      "outputs": []
    },
    {
      "cell_type": "markdown",
      "metadata": {
        "id": "Qu8z27Wa2XGv",
        "colab_type": "text"
      },
      "source": [
        "## 3.b) Descargar y cargar la red de las relaciones entre directivos en empresas públicas de Noruega.\n",
        "\n",
        "Usaremos los datos del siguiente trabajo: *C. Seierstad and T. Opsahl, \"For the few not the many? The effects of affirmative action on presence, prominence, and social capital of women directors in Norway.\" Scand. J. Manag. 27(1), 44-54 (2011)*.\n",
        "\n",
        "Es una red de afiliaciones entre directores que comparten alguna junta directiva en  las compañias públicas noruegas.\n",
        "La red tiene una gran componente, con $854$ vértices (directivos) y $2745$ aristas (juntas directivas en común), y corresponde a la realidad de agosto de 2011.\n",
        "Se incluyen algunos metadatos, como los nombres de directores y compañías, la ciudad y código postal para empresas, y el género de los directores. Visualizar la red en la siguiente Figura (el color de los vértices es el género (azul-hombre, rojo-mujer), y el tamaño representa el grado): ![alt text](https://github.com/prbocca/na101_master/raw/master/homework_8_prediction/g_gcdirectores.png)\n",
        "\n",
        "Descargar el grafo desde: \n",
        "https://github.com/prbocca/na101_master/raw/master/homework_8_prediction/g_gcdirectores.graphml.\n"
      ]
    },
    {
      "cell_type": "code",
      "metadata": {
        "id": "zIaXsIU83kSR",
        "colab_type": "code",
        "colab": {}
      },
      "source": [
        "# descargar y cargar datos\n",
        "g_gcdirectores = NA\n",
        "##################################################################\n",
        "#                       TU CÓDIGO ACÁ                           \n",
        "# Tip: -\n",
        "#\n",
        "#\n",
        "#\n",
        "##################################################################\n",
        "summary(g_gcdirectores)\n",
        "\n",
        "#plot\n",
        "set.seed(25)\n",
        "E(g_gcdirectores)$color = \"gray\"\n",
        "plot(g_gcdirectores, edge.color=\"gray\", edge.width=1, edge.lty=1, edge.arrow.size=.5, \n",
        "     vertex.color=V(g_gcdirectores)$gender, vertex.size=3, vertex.label=NA,\n",
        "     layout=layout_with_drl(g_gcdirectores), main=\"Red de afiliación de directores noruegos: componente gigante\")\n"
      ],
      "execution_count": 0,
      "outputs": []
    },
    {
      "cell_type": "markdown",
      "metadata": {
        "id": "cbD0TMI848Ax",
        "colab_type": "text"
      },
      "source": [
        "## 3.c) Predecir enlaces\n",
        "\n",
        "Para medir la calidad de predicción de cada método usaremos la métrica $AUC$ (*Area Under Curve*). Ver la página de Wikipedia sobre ROC: http://bit.ly/2ehXHrb. Un predictor aleatorio tiene $AUC=0.5$ y un predictor perfecto tiene $AUC=1.0$ por tanto los métodos serán mejores a mayor valor de $AUC$.\n",
        "\n",
        "Utilizando la métrica AUC, evaluar la capacidad predictiva del método de *score* de vecinos en común, sobre una subred observada con el $\\%80$ de las aristas de la red de Malaria.\n",
        "\n",
        "Se disponen de varias funciones auxiliares precargadas, incluyendo `score()` y  `delete_edges_rand()`. \n",
        "Es posible ver las funciones axiliares en: https://raw.githubusercontent.com/prbocca/na101_master/master/homeworks_common.r.\n",
        "\n",
        "El siguiente código resuelve el ejercicio y ejemplifica como usar las funciones auxiliares. Se obtiene una muy buena capacidad predictiva, con un $AUC=0.917$ y la curva ROC de la siguiente Figura: ![Curva ROC para el método de score de vecinos en común, sobre una subred con el %80 de las aristas de la red de Malaria.](https://github.com/prbocca/na101_master/raw/master/homework_8_prediction/roc_malaria.png)\n",
        "\n"
      ]
    },
    {
      "cell_type": "code",
      "metadata": {
        "id": "kDTsiODYxjgL",
        "colab_type": "code",
        "colab": {}
      },
      "source": [
        "# computo las aristas reales y las pongo en un vector (triangular inferior, mismo orden que score())\n",
        "A_malaria <- get.adjacency(g_malaria)\n",
        "A_malaria_v <- A_malaria[lower.tri(A_malaria)]\n",
        "\n",
        "#creo una subred observada\n",
        "set.seed(42)\n",
        "g_malaria_obs = delete_edges_rand(g_malaria, p=0.2)\n",
        "\n",
        "# computo las aristas observadas y las pongo en un vector (triangular inferior, mismo orden que score())\n",
        "A_malaria_obs = get.adjacency(g_malaria_obs)\n",
        "A_malaria_obs_v <- A_malaria_obs[lower.tri(A_malaria_obs)]\n",
        "true_possibleedges_no_obs = A_malaria_v[A_malaria_obs_v==0] #vector real sobre aristas no observadas\n",
        "\n",
        "# computo aristas predichas \n",
        "s_cn  = score(g_malaria_obs, type=\"common neighbors\")\n",
        "pred_possibleedges_no_obs = s_cn$score[A_malaria_obs_v==0] #vector prediccho sobre aristas no observadas\n",
        "\n",
        "# computo la performance\n",
        "pred_malaria <- prediction(pred_possibleedges_no_obs, true_possibleedges_no_obs)\n",
        "perf_malaria <- performance(pred_malaria, \"auc\")\n",
        "printf(\"El método de score saundo vecinos en cumún, tiene un AUC=%s\", slot(perf_malaria, \"y.values\"))\n",
        "# el valor de AUC es 0.9172444\n",
        "\n",
        "#plot de la curva ROC\n",
        "roc_malaria = performance(pred_malaria, measure = \"tpr\", x.measure = \"fpr\")\n",
        "plot(roc_malaria, col=\"red\")\n",
        "title(\"ROC para la red de Malaria y %20 de aristas no observadas\")\n",
        "abline(a=0, b=1)"
      ],
      "execution_count": 0,
      "outputs": []
    },
    {
      "cell_type": "markdown",
      "metadata": {
        "id": "Ne1ny-tp8t3P",
        "colab_type": "text"
      },
      "source": [
        "## 3.d) Estudio exahustivo de capacidad predictiva\n",
        "\n",
        "Realizar un estudio más exahustivo sobre la calidad predictiva del método de score, probando las tres funciones de score definidas anteriormente, variando el porcentaje de aristas observadas entre \\%99 y \\%20.\n",
        "Buscando eliminar casuística, repetir la prueba sorteando distintos grafos observados.\n",
        "Realizar este procedimiento para las siguientes redes:\n",
        "*   grafo aleatorio de Erdos Renyi con $100$ vértices y una probabilidad de arista de $0.20$;\n",
        "\n",
        "*   modelo Barabási-Albert con $100$ vértices y $m=9$ aristias agregadas en cada paso;\n",
        "\n",
        "*   red de Malaria; y \n",
        "\n",
        "*   red de directores.\n",
        "\n",
        "\n",
        "Es posible utilizar la función auxiliar cargada previamente `summary_predictions(g, n_sample, p, types=c(\"1/dist\",\"common neighbors\", \"degree product\"), metric=\"auc\", cores=1)`, que recibe un grafo $g$, crea un grafo observado para cada probabilidad de eliminación de arista del vector $p$, y prueba el métoodo de *score* para distintos tipos de medidas y para la métrica $AUC$. Repite cada caso `n_sample` y promedia resultados.\n",
        "\n"
      ]
    },
    {
      "cell_type": "code",
      "metadata": {
        "id": "fIfbxuF5BRMp",
        "colab_type": "code",
        "colab": {}
      },
      "source": [
        "# defino los parametros del experimento\n",
        "\n",
        "# para cada grafo, sorteo un subgrafo observado, calculo todos los tipos de score, predigo aristas faltantes y evaluo la metrica\n",
        "p_v = c(0.01, 0.05, 0.10, 0.20, 0.50, 0.80) #las probabilidades de eliminacion de arista a evaluar\n",
        "n_sample = 10 #cantidad de sorteos de g_obs\n",
        "types = c(\"1/dist\",\"common neighbors\", \"degree product\")\n",
        "metric=\"auc\" \n",
        "n_cores = 1 #la ejecución en COLAB solo permite 1 CPU"
      ],
      "execution_count": 0,
      "outputs": []
    },
    {
      "cell_type": "code",
      "metadata": {
        "id": "aSTflv8NBUUA",
        "colab_type": "code",
        "colab": {}
      },
      "source": [
        "#realizo los calculos para el grafo aleatorio\n",
        "\n",
        "# sorteo un grafo\n",
        "g_erdosrenyi = erdos.renyi.game(100,0.20)\n",
        "write.graph(g_erdosrenyi, file=\"g_erdosrenyi.graphml\", format= \"graphml\") \n",
        "plot(g_erdosrenyi, edge.color=\"gray\", edge.width=1, edge.lty=1, edge.arrow.size=.5, \n",
        "     vertex.color=\"black\", vertex.size=3, vertex.label=NA,\n",
        "     layout=layout_with_drl(g_erdosrenyi), main=\"Erdos-Renyi\")\n",
        "\n",
        "# evaluo la capacidad predictiva sobre ese grafo\n",
        "results_erdosrenyi = summary_predictions(g_erdosrenyi, n_sample, p_v, types, metric, cores=n_cores)\n",
        "saveRDS(results_erdosrenyi, \"results_erdosrenyi.RDS\")\n",
        "\n",
        "# imprimo resultados\n",
        "ggplot(results_erdosrenyi$results_summary, aes(100*p, auc, colour = score)) + \n",
        "  geom_line() + \n",
        "  geom_point(data=results_erdosrenyi$results, aes(100*p, auc, colour = score), alpha=0.01) + \n",
        "  labs(title = \"AUC para distintos scores y porcentaje de aristas no observadas\", \n",
        "       subtitle = \"grafo Erdos Renyi\", x=\"% aristas no observadas\", y=\"AUC\")"
      ],
      "execution_count": 0,
      "outputs": []
    },
    {
      "cell_type": "code",
      "metadata": {
        "id": "pXU3JsYGBy8Z",
        "colab_type": "code",
        "colab": {}
      },
      "source": [
        "#realizo los calculos para el grafo Barabasi-Albert\n",
        "\n",
        "##################################################################\n",
        "#                       TU CÓDIGO ACÁ                           \n",
        "# Tip: similar a anterior\n",
        "#\n",
        "#\n",
        "#\n",
        "##################################################################\n",
        "\n"
      ],
      "execution_count": 0,
      "outputs": []
    },
    {
      "cell_type": "code",
      "metadata": {
        "id": "_DQhy5CWCIZU",
        "colab_type": "code",
        "colab": {}
      },
      "source": [
        "#realizo los calculos para el grafo g_malaria\n",
        "\n",
        "##################################################################\n",
        "#                       TU CÓDIGO ACÁ                           \n",
        "# Tip: similar a anterior\n",
        "#\n",
        "#\n",
        "#\n",
        "##################################################################\n"
      ],
      "execution_count": 0,
      "outputs": []
    },
    {
      "cell_type": "code",
      "metadata": {
        "id": "OZLYafI1CPkT",
        "colab_type": "code",
        "colab": {}
      },
      "source": [
        "#realizo los calculos para el grafo g_gcdirectores\n",
        "\n",
        "##################################################################\n",
        "#                       TU CÓDIGO ACÁ                           \n",
        "# Tip: similar a anterior\n",
        "#\n",
        "#\n",
        "#\n",
        "##################################################################"
      ],
      "execution_count": 0,
      "outputs": []
    },
    {
      "cell_type": "markdown",
      "metadata": {
        "id": "6y1ewDS8FEHf",
        "colab_type": "text"
      },
      "source": [
        "## 3.e) Interpretar resultados de sección anterior\n",
        "\n",
        "En la sección anterior debieron obtenerse resultados similares a los de la siguiente Figura: ![AUC de los métodos de score para predecir enlaces, usando distintos porcentajes de aristas no observadas y distintas redes.](https://github.com/prbocca/na101_master/raw/master/homework_8_prediction/result_auc_p.png)\n",
        "\n",
        "Como es de esperar: \n",
        "*    no puede predecirse aristas en los grafos aleatorios;\n",
        "*    el *score* del producto de grado solo es útil en el modelo preferencial de Barabási-Albert debido a que en la construcción del grafo son más probables las aristas entre vértices más populares; y\n",
        "*    la capadidad predictiva en redes reales es bastante buena, inclusive para altos porcentajes de aristas no observadas."
      ]
    },
    {
      "cell_type": "markdown",
      "metadata": {
        "id": "AhHsjxkOFdnW",
        "colab_type": "text"
      },
      "source": [
        "# 4. Predicción de atributos de vértices en `R`\n",
        "\n",
        "Seguir las Secciones 8.1 y 8.2 del libro [SANDR], ejecutando el código fuente incluido.\n"
      ]
    },
    {
      "cell_type": "code",
      "metadata": {
        "id": "xVCo17BfFlYF",
        "colab_type": "code",
        "colab": {}
      },
      "source": [
        "# Chapter 8 Modeling and Prediction for Processes on Network Graphs\n",
        "# 8.1 Introduction\n",
        "# 8.2 Nearest Neighbor Methods\n",
        "#############################################################\n",
        "\n",
        "# We illustrate through the problem of protein function prediction. \n",
        "# We saw examples of strong assortative mixing of protein function in\n",
        "# the underlying network of protein–protein interactions. While the gold standard for\n",
        "# establishing the functionality of proteins is through direct experimental validation\n",
        "# (or ‘assays’), results like these have been taken to suggest that, given the vast num-\n",
        "# ber of proteins yet to be annotated, it is natural to approach this problem from the\n",
        "# perspective of statistical prediction. Approaches to protein function prediction that\n",
        "# incorporate network-based information have become standard.\n",
        "set.seed(42)\n",
        "\n",
        "data(ppi.CC)\n",
        "ppi.CC = upgrade_graph(ppi.CC)\n",
        "summary(ppi.CC)\n",
        "# IGRAPH 006c919 UN-- 134 241 -- \n",
        "#   + attr: name (v/c), ICSC (v/n), IPR000198 (v/n), IPR000403 (v/n), IPR001806 (v/n), IPR001849 (v/n),\n",
        "# | IPR002041 (v/n), IPR003527 (v/n)\n",
        "# contains a network data object, called ppi.CC, that consists of a network of 241\n",
        "# interactions among 134 proteins, as well as various vertex attributes.\n",
        "#\n",
        "# The vertex attribute ICSC is a binary vector\n",
        "V(ppi.CC)$ICSC[1:10]\n",
        "\n",
        "# A visualization of this network is shown in Fig. 8.1.\n",
        "V(ppi.CC)[ICSC == 1]$color <- \"yellow\"\n",
        "V(ppi.CC)[ICSC == 0]$color <- \"blue\"\n",
        "plot(ppi.CC, vertex.size=5, vertex.label=NA)\n"
      ],
      "execution_count": 0,
      "outputs": []
    },
    {
      "cell_type": "code",
      "metadata": {
        "id": "J6_p17aqGUeF",
        "colab_type": "code",
        "colab": {}
      },
      "source": [
        "# A simple, but often quite effective, method for producing local predictions is the\n",
        "# nearest-neighbor method. See Hastie, Tibshirani, and Friedman [71, Chap. 2.3.2],\n",
        "# for example, for general background on nearest-neighbor methods. For networks,\n",
        "# the nearest-neighbor method centers on the calculation, for a given vertex i ∈ V , of\n",
        "# the nearest-neighbor average\n",
        "# i.e., the average of the values of the vertex attribute vector X in the neighborhood\n",
        "# N i of i. Here |N i | denotes the number of neighbors of i in G. Calculation of these\n",
        "# averages over all vertices i ∈ V corresponds to a nearest-neighbor smoothing of X\n",
        "# across the network.\n",
        "\n",
        "# In the context of protein function prediction, X is a binary vector, with entries\n",
        "# indicating whether or not each protein is or is not annotated with a function of\n",
        "# interest (e.g., ICSC). In predicting binary vertex attributes, the nearest-neighbor av-\n",
        "#   erages (8.1) typically are compared to some threshold. For example, a threshold\n",
        "# of 0.5 is commonly used, with a nearest-neighbor average greater than this value\n",
        "# meaning that a majority of neighbors have the characteristic indicated by X = 1,\n",
        "# resulting in a prediction for X i of 1 as well. Such methods are also known as ‘guilt-\n",
        "#   by-association’ methods in some fields.\n",
        "\n",
        "# me quedo con la componente gigante\n",
        "clu <- clusters(ppi.CC)\n",
        "ppi.CC.gc <- induced.subgraph(ppi.CC, clu$membership==which.max(clu$csize))\n",
        "plot(ppi.CC.gc, vertex.size=5, vertex.label=NA)\n",
        "\n",
        "# we can calculate the nearest-neighbor average\n",
        "# for each of the proteins in the giant connected component of our network.\n",
        "nn.ave <- sapply(V(ppi.CC.gc), function(x) mean(V(ppi.CC.gc)[nei(x)]$ICSC))\n",
        "\n",
        "# We then plot histograms of the resulting values, separated according to the status\n",
        "# of the vertex defining each neighborhood, i.e., according to the status of the ‘ego’\n",
        "# vertex, in the terminology of social networks.\n",
        "# The results, shown in Fig. 8.2, confirm that ICSC can be predicted with fairly\n",
        "# good accuracy. \n",
        "par(mfrow=c(2,1))\n",
        "hist(nn.ave[V(ppi.CC.gc)$ICSC == 1], col=\"yellow\",\n",
        "     ylim=c(0, 30), xlab=\"Proportion Neighbors w/ ICSC\",\n",
        "     main=\"Egos w/ ICSC\")\n",
        "hist(nn.ave[V(ppi.CC.gc)$ICSC == 0], col=\"blue\",\n",
        "     ylim=c(0, 30), xlab=\"Proportion Neighbors w/ ICSC\",\n",
        "     main=\"Egos w/out ICSC\")\n",
        "\n",
        "# In particular, using a threshold of 0.5 would yield an error rate\n",
        "# of roughly 25 %.\n",
        "nn.pred <- as.numeric(nn.ave > 0.5)\n",
        "mean(as.numeric(nn.pred != V(ppi.CC.gc)$ICSC))\n",
        "#[1] 0.2598425"
      ],
      "execution_count": 0,
      "outputs": []
    },
    {
      "cell_type": "code",
      "metadata": {
        "id": "8SBUfuoKHLkq",
        "colab_type": "code",
        "colab": {}
      },
      "source": [
        "# La siguiente sección requiere previamente instalar algunos paquetes especiales\n",
        "\n",
        "if (!requireNamespace(\"BiocManager\", quietly = TRUE))\n",
        "    install.packages(\"BiocManager\")\n",
        "BiocManager::install()\n",
        "BiocManager::install(c(\"GOstats\", \"GO.db\", \"org.Sc.sgd.db\"))"
      ],
      "execution_count": 0,
      "outputs": []
    },
    {
      "cell_type": "code",
      "metadata": {
        "id": "0XfSKdClGuHk",
        "colab_type": "code",
        "colab": {}
      },
      "source": [
        "# Interestingly, we can push this illustration a bit further by taking advantage of the\n",
        "# evolving nature of biological databases like GO. In particular, the proteins annotated\n",
        "# in GO as not having a given biological function include both (1) those that indeed are\n",
        "# known not to have that function, and (2) those whose status is simply unknown. As\n",
        "# a result, by comparing against more recent versions of GO, it is sometimes possible\n",
        "# to identify proteins whose status has changed for a given functional annotation,\n",
        "# indicating that in the interim it has been discovered to in fact have that function.\n",
        "# The R package GOstats, a part of the Bioconductor package, may be used to\n",
        "# manipulate and analyze Gene Ontology, as contained in the database GO.db.\n",
        "library(GOstats)\n",
        "library(GO.db)\n",
        "# And the annotations specific to the organism yeast can be obtained from the\n",
        "# org.Sc.sgd.db database.\n",
        "library(org.Sc.sgd.db)\n",
        "# At the time of this writing, these annotations were last updated in September of\n",
        "# 2013, roughly six years after the data in ppi.CC were assembled."
      ],
      "execution_count": 0,
      "outputs": []
    },
    {
      "cell_type": "code",
      "metadata": {
        "id": "HE5uSmUXH-Zc",
        "colab_type": "code",
        "colab": {}
      },
      "source": [
        "# We extract those proteins with the function ICSC—now subsumed under the\n",
        "# term intercellular signaling transduction (ICST), or GO label 003556—and keep\n",
        "# only those that have been identified from direct experimental assay, as indicated by\n",
        "# the evidence code ‘IDA’.\n",
        "x <- as.list(org.Sc.sgdGO2ALLORFS)\n",
        "current.icst <- x[names(x) == \"GO:0035556\"]\n",
        "ev.code <- names(current.icst[[1]])\n",
        "icst.ida <- current.icst[[1]][ev.code == \"IDA\"]\n",
        "# We then separate out the names of those proteins that had ICSC in our original data\n",
        "orig.icsc <- V(ppi.CC.gc)[ICSC == 1]$name\n",
        "# and similarly extract the names of those proteins under the new annotations that\n",
        "# were present in the giant connected component of our original network.\n",
        "candidates <- intersect(icst.ida, V(ppi.CC.gc)$name)\n",
        "# Among these candidates, there are four that have been newly discovered to have\n",
        "# ICSC, with the following names.\n",
        "new.icsc <- setdiff(candidates, orig.icsc)\n",
        "new.icsc\n",
        "# [1] \"YDL159W\" \"YHL007C\" \"YIL033C\" \"YLR362W\"\n",
        "# And among these four, we find that two of them would have been correctly predicted\n",
        "# by comparing the value of their nearest-neighbor averages to a threshold of 0.5.\n",
        "nn.ave[V(ppi.CC.gc)$name %in% new.icsc]"
      ],
      "execution_count": 0,
      "outputs": []
    },
    {
      "cell_type": "markdown",
      "metadata": {
        "id": "zmyb8MVnInfE",
        "colab_type": "text"
      },
      "source": [
        "# 5. Predicción de atributos de vértices en redes reales.\n",
        "\n",
        "Por lo general, los vértices de las redes reales tiene atributos, los cuales pueden ser categóricos, escalares o reales.\n",
        "En muchos casos no se conocen estos atributos para algunos vértices, por ejemplo cuando solo se tiene una muestra de la red, cuando explicitamente el atributo es ocultado por el vértice, cuando el atributo aun no existe y se creará a futuro, etc.\n",
        "\n",
        "Un método sencillo para predecir los atributos faltantes es el método de los vecinos más cercanos (*NNM - nearest-neighbor method*), donde se estima el atributo faltante en el vértice $i$ como el promedio de los atributos en el vecindario de $i$. La idea de vecindario y promedio puede variar dependiendo del caso particular. Este método suele funcionar bien cuando existe una marcada homofilia entre los vértices participantes respecto a ese atributo."
      ]
    },
    {
      "cell_type": "markdown",
      "metadata": {
        "id": "mYmTd4VtJVCa",
        "colab_type": "text"
      },
      "source": [
        "## 5.a) Cargar los datos\n",
        "\n",
        "Cargar la red de la enfermedad de Malaria y la red de relaciones entre directivos en empresas públicas de Noruega siguiendo el procedimiento del ejercicio anterior.\n"
      ]
    },
    {
      "cell_type": "code",
      "metadata": {
        "id": "tSbYJnfSJmpg",
        "colab_type": "code",
        "colab": {}
      },
      "source": [
        "# Cargar la red de Malaria\n",
        "g_malaria = read.graph(file=\"g_malaria.graphml\", format= \"graphml\")\n",
        "summary(g_malaria)\n",
        "\n",
        "# Cargar la red de directores\n",
        "g_gcdirectores = read.graph(file=\"g_gcdirectores.graphml\", format= \"graphml\")\n",
        "summary(g_gcdirectores)\n"
      ],
      "execution_count": 0,
      "outputs": []
    },
    {
      "cell_type": "markdown",
      "metadata": {
        "id": "F1o_4uo4KGqR",
        "colab_type": "text"
      },
      "source": [
        "## 5.b) Predecir atributos en la red de Malaria\n",
        "\n",
        "Evaluar la precisión del método NNM, sobre una subred observada con el $\\%80$ de los atributos de vértice `label` de la red de Malaria.\n",
        "El atributo `label`, disponibles en la red, es un enumerado (variable categórica) y es representado en `igraph` como números. Por tal motivo, el promedio sobre los vecinos del método NNM se define como el enumerado de mayor frecuencia. \n",
        "Para medir la calidad de predicción del método usaremos la exactitud  (*accuracy* - fracción de predicciones correctas).\n",
        "\n",
        "Se disponen de varias funciones auxiliares, incluyendo `nnm()` y `delete_vertex_attr_rand()`. \n",
        "Es posible ver las funciones axiliares en: https://github.com/prbocca/na101_master/raw/master/homeworks_common.r.\n",
        "\n",
        "El siguiente código resuelve el ejercicio y ejemplifica como usar las funciones auxiliares. Se obtiene una muy buena capacidad predictiva, con una exactitud de $acc=0.712$.\n"
      ]
    },
    {
      "cell_type": "code",
      "metadata": {
        "id": "SLVeh-xGMeG7",
        "colab_type": "code",
        "colab": {}
      },
      "source": [
        "#creo una subred observada\n",
        "set.seed(42)\n",
        "g_malaria_obs = delete_vertex_attr_rand(g_malaria,\"label\", p=0.2)\n",
        "vertex_attr_deleted = is.na(vertex_attr(g_malaria_obs, \"label\")) #vector booleando con los atributos borrados\n",
        "\n",
        "#computo vector con los atributos reales\n",
        "vertex_attr_actual = vertex_attr(g_malaria, \"label\")[vertex_attr_deleted] #vector con los atributos reales\n",
        "vertex_attr_actual = factor(vertex_attr_actual, levels=unique(vertex_attr(g_malaria, \"label\")))\n",
        "\n",
        "#computo vector con atributos predichos\n",
        "vertex_attr_pred  = nnm(g_malaria_obs,\"label\", fun=\"freq\")[vertex_attr_deleted] #vector con los atributos predichos\n",
        "vertex_attr_pred = factor(vertex_attr_pred, levels=unique(vertex_attr(g_malaria, \"label\")))\n",
        "\n",
        "# computo la exactitud\n",
        "cm = as.matrix(table(pred=vertex_attr_pred, actual=vertex_attr_actual)) # create the confusion matrix\n",
        "accuracy = sum(diag(cm)) / sum(cm)\n",
        "printf(\"La exactitud de NNM para la red e Malaria es %s\", accuracy) # [1] 0.7121212\n",
        "\n",
        "# otra forma corta de hacerlo\n",
        "# comparo con funcion de prediccion que hace todo\n",
        "#r = evaluate_predictions_vertexattr(g_malaria, g_malaria_obs, \"label\", fun=\"freq\", metric=\"acc\")\n",
        "#r$metrics\n"
      ],
      "execution_count": 0,
      "outputs": []
    },
    {
      "cell_type": "markdown",
      "metadata": {
        "id": "ovowbWLvRfWR",
        "colab_type": "text"
      },
      "source": [
        "## 5.c) Predecir atributos en la red de directores\n",
        "\n",
        "En la red de relaciones entre directivos se conoce el género de los directivos, como un atributo binario de vértice llamado `gender`.\n",
        "Dado que el atributo es binario se puede utilizar tanto la métrica de exactitud como $AUC$ visto anteriormente. Además el método NNM puede realizarse usando el promedio entre los vecinos (y no la frecuencia más alta).\n",
        "Repetir la parte anterior para esta red. \n",
        "¿Qué se puede concluir sobre la homofilia en esta red?\n"
      ]
    },
    {
      "cell_type": "code",
      "metadata": {
        "id": "I1bXTjNIRvGg",
        "colab_type": "code",
        "colab": {}
      },
      "source": [
        "##################################################################\n",
        "#                       TU CÓDIGO ACÁ                           \n",
        "# Tip: similar a anterior\n",
        "#\n",
        "#\n",
        "#\n",
        "##################################################################\n"
      ],
      "execution_count": 0,
      "outputs": []
    },
    {
      "cell_type": "markdown",
      "metadata": {
        "id": "E07xO1kFTlPb",
        "colab_type": "text"
      },
      "source": [
        "## 5.d) Estudio exahustivo de capacidad predictiva\n",
        "\n",
        "Realizar un estudio más exahustivo sobre la calidad predictiva del método NNM, variando el porcentaje de atributos `label` observados entre \\%99 y \\%20 para la red de Malaria.\n",
        "Buscando eliminar casuística, repetir la prueba sorteando distintos grafos observados.\n",
        "\n",
        "Es posible utilizar la función auxiliar cargada previamente  `summary_predictions_vertexattr(g, attr, n_sample, p, fun=\"mean\", metric=\"auc\", cores=1)`, que recibe un grafo `g`, crea un grafo observado para cada probabilidad de eliminación de arista del vector `p`, y prueba el métoodo NNM promediando con la función `fun` y para la métrica `acc`. Repite cada caso `n_sample` y promedia resultados.\n",
        "\n",
        "Deben obtenerse resultados similares a los de la siguiente Figura: ![precisión del método NNM para predecir atributos de vértices, usando distintos porcentajes de atributos no observados](https://github.com/prbocca/na101_master/raw/master/homework_8_prediction/result_acc_p.png). Observar que en este caso, la capadidad predictiva no es muy buena, y existe gran variación en los resultados entre muestras.\n",
        "\n"
      ]
    },
    {
      "cell_type": "code",
      "metadata": {
        "id": "_VIU0a8SYfgM",
        "colab_type": "code",
        "colab": {}
      },
      "source": [
        "# defino los parametros del experimento\n",
        "\n",
        "# para cada grafo, sorteo un subgrafo observado, calculo todos los tipos de score, predigo aristas faltantes y evaluo la metrica\n",
        "p_v = c(0.01, 0.05, 0.10, 0.20, 0.50, 0.80) #las probabilidades de eliminacion de arista a evaluar\n",
        "n_sample = 10 #cantidad de sorteos de g_obs\n",
        "metric=\"acc\" #metric=\"auc\" #metric=\"f\"\n",
        "n_cores = 1 #la ejecución en COLAB solo permite 1 CPU"
      ],
      "execution_count": 0,
      "outputs": []
    },
    {
      "cell_type": "code",
      "metadata": {
        "id": "uLJ9dfViWejc",
        "colab_type": "code",
        "colab": {}
      },
      "source": [
        "#realizo los calculos para el grafo g_malaria\n",
        "\n",
        "results_malaria_vertexattr = NA\n",
        "##################################################################\n",
        "#                       TU CÓDIGO ACÁ                           \n",
        "# Tip: ver funciones auxiliares\n",
        "#\n",
        "#\n",
        "#\n",
        "##################################################################\n",
        "str(results_malaria_vertexattr)\n",
        "\n",
        "#imprimo resultados\n",
        "ggplot(results_malaria_vertexattr$results_summary, aes(100*p, acc)) + \n",
        "  geom_line() + \n",
        "  geom_point(data=results_malaria_vertexattr$results, aes(100*p, acc), alpha=0.20) + \n",
        "  labs(title = \"Precisión para distintos porcentajes de atributos no observados\", \n",
        "       subtitle = \"grafo Malaria\", x=\"% atributos de vértices no observados\", y=\"precisión\")\n"
      ],
      "execution_count": 0,
      "outputs": []
    }
  ]
}