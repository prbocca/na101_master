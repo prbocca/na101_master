{
  "nbformat": 4,
  "nbformat_minor": 0,
  "metadata": {
    "colab": {
      "name": "public_homework_02_measures.ipynb",
      "provenance": [],
      "collapsed_sections": [],
      "toc_visible": true
    },
    "kernelspec": {
      "name": "python3",
      "display_name": "Python 3"
    },
    "language_info": {
      "name": "python"
    }
  },
  "cells": [
    {
      "cell_type": "markdown",
      "metadata": {
        "id": "2IQTbH5a7XJ3"
      },
      "source": [
        "# Práctico 2: Calcular e interpretar medidas de centralidad de nodo en redes reales"
      ]
    },
    {
      "cell_type": "markdown",
      "metadata": {
        "id": "z_dIDg6q68TR"
      },
      "source": [
        "# Inicialización"
      ]
    },
    {
      "cell_type": "markdown",
      "metadata": {
        "id": "3NC4nuH1gSH2"
      },
      "source": [
        "Como siempre, comenzamos poder installar las bibliotecas `IGraph` y `CairoCffi` (necesaria para visualizar grafos)."
      ]
    },
    {
      "cell_type": "code",
      "metadata": {
        "id": "iTd1sZ7k0yWE"
      },
      "source": [
        "!pip install python-igraph\n",
        "!pip install cairocffi"
      ],
      "execution_count": null,
      "outputs": []
    },
    {
      "cell_type": "markdown",
      "metadata": {
        "id": "sPzhrLE4gcwD"
      },
      "source": [
        "Luego vamos a descargar algunos datasets\n",
        "\n",
        "Datos del Club de Karate."
      ]
    },
    {
      "cell_type": "code",
      "metadata": {
        "id": "UnyukxXw083Q"
      },
      "source": [
        "!wget \"https://raw.githubusercontent.com/prbocca/na101_master/master/homework_02_measures/karate.graphml\" -O \"karate.graphml\""
      ],
      "execution_count": null,
      "outputs": []
    },
    {
      "cell_type": "markdown",
      "metadata": {
        "id": "AX50ujAZxNap"
      },
      "source": [
        " Datos de Blogs sobre el Sida."
      ]
    },
    {
      "cell_type": "code",
      "metadata": {
        "id": "054qzZiNQ1LE"
      },
      "source": [
        "!wget \"https://raw.githubusercontent.com/prbocca/na101_master/master/homework_02_measures/aidsblog.edgelist\" -O \"aidsblog.edgelist\""
      ],
      "execution_count": null,
      "outputs": []
    },
    {
      "cell_type": "code",
      "metadata": {
        "id": "2Y6WGzgk19af"
      },
      "source": [
        "import igraph as ig\n",
        "import matplotlib.pyplot as plt\n",
        "import random\n",
        "import statistics\n",
        "import pandas as pd\n",
        "import numpy as np"
      ],
      "execution_count": null,
      "outputs": []
    },
    {
      "cell_type": "markdown",
      "metadata": {
        "id": "_DW62tzDg1Gs"
      },
      "source": [
        "#1) Análisis inicial\n",
        "\n",
        "Vamos a seguir (en python) las secciones 4.1 y 4.2 del libro [SANDR].\n",
        "\n",
        "Recomendamos su lectura en paralelo, para darle más contenido al trabajo de práctico. En lo que resta, agregaremos la nomenclatura [SANDR4.x.y] para referinos a la Sección 4.x.y del libro."
      ]
    },
    {
      "cell_type": "markdown",
      "metadata": {
        "id": "sv4R9g-d9zgH"
      },
      "source": [
        "Empezamos por cargar el grafo y verificar algunas de sus propiedades."
      ]
    },
    {
      "cell_type": "code",
      "metadata": {
        "id": "BCG0wXrrCqB0"
      },
      "source": [
        "g_karate = ig.load(\"karate.graphml\")\n",
        "\n",
        "print(g_karate.summary())"
      ],
      "execution_count": null,
      "outputs": []
    },
    {
      "cell_type": "code",
      "metadata": {
        "id": "QnBd1_keAA8I"
      },
      "source": [
        "g_karate.vcount(), g_karate.ecount()"
      ],
      "execution_count": null,
      "outputs": []
    },
    {
      "cell_type": "markdown",
      "metadata": {
        "id": "-I7YjfEZEB7L"
      },
      "source": [
        "Es un grafo no dirigido con pesos en las aristas:"
      ]
    },
    {
      "cell_type": "code",
      "metadata": {
        "id": "hcJ5cbqZ_Qwe"
      },
      "source": [
        "g_karate.is_directed()"
      ],
      "execution_count": null,
      "outputs": []
    },
    {
      "cell_type": "code",
      "metadata": {
        "id": "sOa9JdXz2A8u"
      },
      "source": [
        "g_karate.es[0].attributes()"
      ],
      "execution_count": null,
      "outputs": []
    },
    {
      "cell_type": "markdown",
      "metadata": {
        "id": "_E0NiXzJDcQC"
      },
      "source": [
        "Recordamos como visualizarlo."
      ]
    },
    {
      "cell_type": "code",
      "metadata": {
        "id": "R2AiyhKuDTNk"
      },
      "source": [
        "visual_style = dict()\n",
        "visual_style[\"bbox\"] = (400, 400)\n",
        "\n",
        "#transformo numero de colores a paleta\n",
        "id_gen = ig.datatypes.UniqueIdGenerator()\n",
        "color_indices = [id_gen.add(value) for value in g_karate.vs['color']]\n",
        "palette = ig.drawing.colors.ClusterColoringPalette(len(id_gen))\n",
        "colors = [palette[index] for index in color_indices]\n",
        "visual_style[\"vertex_color\"] = colors \n",
        "\n",
        "ig.plot(g_karate, **visual_style)"
      ],
      "execution_count": null,
      "outputs": []
    },
    {
      "cell_type": "markdown",
      "source": [
        "Y podemos tener una tabla con todos los atributos de los vértices (y los ID de los vértices)"
      ],
      "metadata": {
        "id": "A7jLPP6rSzxs"
      }
    },
    {
      "cell_type": "code",
      "source": [
        "g_karate.get_vertex_dataframe()"
      ],
      "metadata": {
        "id": "LI4TqUljS_Mg"
      },
      "execution_count": null,
      "outputs": []
    },
    {
      "cell_type": "markdown",
      "metadata": {
        "id": "hKdRYQGahEQt"
      },
      "source": [
        "En el siguiente paso, le vamos a pedir que encuentre todos los vecinos del nodo con `label=9` y que encuentre las aristas correspondientes. \n",
        "\n",
        "Recomendamos usar las siguientes funciones."
      ]
    },
    {
      "cell_type": "code",
      "metadata": {
        "id": "r2aLxQ9rEN-4"
      },
      "source": [
        "help(ig.VertexSeq.find)\n",
        "help(ig.Graph.neighbors)\n",
        "help(ig.Graph.get_eid)"
      ],
      "execution_count": null,
      "outputs": []
    },
    {
      "cell_type": "code",
      "metadata": {
        "id": "FK8_aH5m6J4E"
      },
      "source": [
        "neighbors = None\n",
        "edges = []\n",
        "\n",
        "### START CODE HERE\n",
        "### END CODE HERE\n",
        "\n",
        "print(neighbors)\n",
        "print(edges)"
      ],
      "execution_count": null,
      "outputs": []
    },
    {
      "cell_type": "markdown",
      "metadata": {
        "id": "NAPxn7FW3Un8"
      },
      "source": [
        "#2) Distribución de grado\n",
        "\n",
        "Como primera de las herramientas para analizar el gráfo en su totalidad (a diferencia de un nodo en particular), vamos a mirar la distribución de grado. Esto es, un histograma de la frequencia de los grados de todos los vértices en el grafo [SAND4.2.1]."
      ]
    },
    {
      "cell_type": "markdown",
      "metadata": {
        "id": "vwuOtnoyK3Bc"
      },
      "source": [
        "## 2.1) Graficar el histograma de la distribución de grado `g_karate`, utilizar la función `ig.Graph.degree()`."
      ]
    },
    {
      "cell_type": "code",
      "metadata": {
        "id": "nvkbjBY52Dw6"
      },
      "source": [
        "### START CODE HERE\n",
        "### END CODE HERE\n"
      ],
      "execution_count": null,
      "outputs": []
    },
    {
      "cell_type": "markdown",
      "metadata": {
        "id": "wwRk8zQ5h6pk"
      },
      "source": [
        "##2.2) Cálculo de la \"fortaleza\" del grafo\n",
        "\n",
        "El concepto de fuerza es muy similar al de distribución de grado con una diferencia. En la distribución de grado, el grado se cálcula como la cantidad de aristas de cada vértice. Pero que ocurre si las aristas tienen peso?\n",
        "\n",
        "En este caso, podemos usar la fortaleza y consecuentemente la distribución de la fortaleza [SAND4.2.1].\n",
        "\n",
        "Graficar el histograma de la fortaleza de `g_karate`, utilizar la función `ig.Graph.strength()`."
      ]
    },
    {
      "cell_type": "code",
      "metadata": {
        "id": "N58RxEQB5OR5"
      },
      "source": [
        "### START CODE HERE\n",
        "### END CODE HERE\n"
      ],
      "execution_count": null,
      "outputs": []
    },
    {
      "cell_type": "markdown",
      "metadata": {
        "id": "p4Yxb1gh7nEz"
      },
      "source": [
        "##2.3) Grado promedio de los vecinos en función del grado propio\n",
        "\n",
        "Otra métrica que ayuda a describir la estructura de un grafo es entender que tan populares son los vecinos de un nodo [SAND4.2.1].\n",
        "\n",
        "Por ejemplo: en un grafo estrella: el grado promedio de los vecinos de todos los nodos menos 1 es `n-1` mientras que el grado promedio del faltante es `1`."
      ]
    },
    {
      "cell_type": "markdown",
      "metadata": {
        "id": "d7XpaGPtkNcl"
      },
      "source": [
        "Para cada nodo, calcula el promedio de los grados de sus vecinos."
      ]
    },
    {
      "cell_type": "code",
      "metadata": {
        "id": "3fAZR8f97t_x"
      },
      "source": [
        "degree = g_karate.degree()\n",
        "\n",
        "#lista donde se guarda el promedio del grado de los vecinos\n",
        "avgerage_degree_neighbours = None\n",
        "\n",
        "### START CODE HERE\n",
        "### END CODE HERE\n"
      ],
      "execution_count": null,
      "outputs": []
    },
    {
      "cell_type": "code",
      "metadata": {
        "id": "SlCj6CGA7ucC"
      },
      "source": [
        "fig, ax = plt.subplots(figsize=(8, 6))\n",
        "ax.scatter(degree, avgerage_degree_neighbours)\n",
        "ax.plot(degree, degree, color='r', alpha=0.1)\n",
        "ax.set_xlabel(\"Degree\")\n",
        "ax.set_ylabel(\"Neighbour Avg Degree\")\n",
        "ax.set_title(\"Average neighbor degree versus vertex degree\")\n",
        "plt.show()"
      ],
      "execution_count": null,
      "outputs": []
    },
    {
      "cell_type": "markdown",
      "source": [
        "Observar que es mucho más común que los vecinos tengan mayor grado en promedio que mi grado. A esto se le llama la \"paradoja de la amistad\", y es muy relevante para estudiar los efectos de las redes sociales:\n",
        "* *Feld, Scott L. (1991), \"Why your friends have more friends than you do\", American Journal of Sociology, 96 (6): 1464–1477, doi:10.1086/229693, JSTOR 2781907, S2CID 56043992.*\n",
        "\n",
        "Ver más en [Friendship paradox, from Wikipedia](https://en.wikipedia.org/wiki/Friendship_paradox)."
      ],
      "metadata": {
        "id": "HJTki7cWT1wb"
      }
    },
    {
      "cell_type": "markdown",
      "metadata": {
        "id": "W_rgLSm39Kw5"
      },
      "source": [
        "#3) Medidas de centralidad\n",
        "\n",
        "Habiendo trabajado con distribuciones relacionadas al grado de los vertices, nos movemos a trabajar con la centralidad de los nodos y como estos valores pueden usarse para describir el grafo [SANDR4.2.2].\n",
        "\n",
        "Nos vamos a concentrar en las siguientes medidas:\n",
        "\n",
        "* Grado\n",
        "* Intermediación (Betweenness)\n",
        "* Cercanía (Closeness)\n",
        "* Valor Propio (Eigenvalue centrality)\n",
        "* Page Rank\n",
        "* Hub / Authority Score"
      ]
    },
    {
      "cell_type": "markdown",
      "metadata": {
        "id": "3LwtndonQ6Be"
      },
      "source": [
        "## 3.1) Ranking de los vértices más importantes del grago  `g_karate` "
      ]
    },
    {
      "cell_type": "code",
      "metadata": {
        "id": "tHxqTvDH9Q_Y"
      },
      "source": [
        "degree = g_karate.degree()\n",
        "\n",
        "betweeness = g_karate.betweenness()\n",
        "\n",
        "closeness = g_karate.closeness()\n",
        "\n",
        "eig_cent = g_karate.evcent(directed=False)\n",
        "\n",
        "page_rank = g_karate.pagerank(directed=False)\n",
        "\n",
        "hub = g_karate.hub_score()\n",
        "authority = g_karate.authority_score()"
      ],
      "execution_count": null,
      "outputs": []
    },
    {
      "cell_type": "code",
      "metadata": {
        "id": "88NIJokd9pyC"
      },
      "source": [
        "df = pd.DataFrame([degree, betweeness, closeness, eig_cent, page_rank, hub, authority]).T\n",
        "df.columns = [\"Degree\", \"Betweenness\", \"Closeness\", \"Eigenvalue Centrality\", \"Page Rank\", \"Hub\", \"Authority\"]"
      ],
      "execution_count": null,
      "outputs": []
    },
    {
      "cell_type": "code",
      "metadata": {
        "id": "P-x1jIwE-nFs"
      },
      "source": [
        "df.sort_values(\"Degree\", ascending=False).head(10)"
      ],
      "execution_count": null,
      "outputs": []
    },
    {
      "cell_type": "markdown",
      "metadata": {
        "id": "IP2mgzN5ApUW"
      },
      "source": [
        "Obtener un dataframe con 5 filas donde cada fila tenga los vértices más importantes según cada medida de centralidad."
      ]
    },
    {
      "cell_type": "code",
      "metadata": {
        "id": "bB1SIxPE-uG_"
      },
      "source": [
        "### START CODE HERE\n",
        "### END CODE HERE\n"
      ],
      "execution_count": null,
      "outputs": []
    },
    {
      "cell_type": "code",
      "metadata": {
        "id": "eGmwkUTiASNG"
      },
      "source": [
        "# Qué vertices aparecen en el top 5 de todas las medidas de centralidad\n",
        "\n",
        "### START CODE HERE\n",
        "### END CODE HERE\n"
      ],
      "execution_count": null,
      "outputs": []
    },
    {
      "cell_type": "markdown",
      "metadata": {
        "id": "Tqw_oRKKRJIZ"
      },
      "source": [
        "## 3.2) Observando la utilidad de hub/authority en la red de Blogs sobre el Sida\n",
        "\n",
        "Comenzamos cargando la red [SANDR4.2.2]."
      ]
    },
    {
      "cell_type": "code",
      "metadata": {
        "id": "5JKjcvzCOY06"
      },
      "source": [
        "g_aids = ig.load(\"aidsblog.edgelist\")\n",
        "\n",
        "ig.summary(g_aids)"
      ],
      "execution_count": null,
      "outputs": []
    },
    {
      "cell_type": "markdown",
      "metadata": {
        "id": "-IUlWR66Rmpe"
      },
      "source": [
        "Calculamos las centralidades hub y authority."
      ]
    },
    {
      "cell_type": "code",
      "metadata": {
        "id": "x-X-z768P4V-"
      },
      "source": [
        "#guardamos los valores de la centralidad en\n",
        "hub_aids = authority_aids = None\n",
        "\n",
        "### START CODE HERE\n",
        "### END CODE HERE\n",
        "\n",
        "print(hub_aids)\n",
        "print(authority_aids)"
      ],
      "execution_count": null,
      "outputs": []
    },
    {
      "cell_type": "markdown",
      "metadata": {
        "id": "o7sbKu6mR6tW"
      },
      "source": [
        "Visualizamos e interpretamos"
      ]
    },
    {
      "cell_type": "code",
      "metadata": {
        "id": "uDvsATFYOj2k"
      },
      "source": [
        "fig, ax = plt.subplots(1, 2, figsize=(16, 8))\n",
        "\n",
        "layout = g_aids.layout_kamada_kawai()\n",
        "visual_style = {}\n",
        "visual_style[\"layout\"] = layout\n",
        "visual_style[\"bbox\"] = (500, 500)\n",
        "visual_style[\"margin\"] = 10\n",
        "\n",
        "#Hubs\n",
        "visual_style[\"vertex_size\"] =10 * np.sqrt(hub_aids)\n",
        "ax_ = ax[0]\n",
        "ig.plot(g_aids, **visual_style, target=ax_)\n",
        "_ = ax_.axis(\"off\")\n",
        "ax_.set_title(\"Hubs\")\n",
        "\n",
        "#Authorities\n",
        "visual_style[\"vertex_size\"] =10 * np.sqrt(authority_aids)\n",
        "ax_ = ax[1]\n",
        "ig.plot(g_aids, **visual_style, target=ax_)\n",
        "_ = ax_.axis(\"off\")\n",
        "ax_.set_title(\"Authorities\")\n",
        "\n",
        "plt.show()"
      ],
      "execution_count": null,
      "outputs": []
    },
    {
      "cell_type": "markdown",
      "metadata": {
        "id": "9zLeMIPFHviO"
      },
      "source": [
        "#4) Redes sociales reales\n",
        "\n",
        "Para bajar a tierra nuestro análisis, y al mismo tiempo practicar hacerlo sobre datos reales, nos vamos a enfocar en un dataset extraido de Twitter.\n",
        "\n",
        "Twitter permite acceder parcialmente a datos de la red utilizando una cuenta de\n",
        "desarrollador gratuita. El 30/08/2018 a las 11.30am se descargaron los 5000 tweets más recientes sobre #Uruguay. "
      ]
    },
    {
      "cell_type": "markdown",
      "metadata": {
        "id": "K8M-6cDq1OK4"
      },
      "source": [
        "## 4.1) Cargar y explorar los datos"
      ]
    },
    {
      "cell_type": "code",
      "metadata": {
        "id": "Sshhjs1qHzZg"
      },
      "source": [
        "!wget \"https://raw.githubusercontent.com/prbocca/na101_master/master/homework_02_measures/tweets_uru.csv\" -O \"tweets_uru.csv\""
      ],
      "execution_count": null,
      "outputs": []
    },
    {
      "cell_type": "markdown",
      "metadata": {
        "id": "T6R9NrAbteOa"
      },
      "source": [
        "Esta vez comenzamos el análisis desde los datos crudos (y no desde el grafo).\n",
        "Manipularemos los datos para obtener el grafo de twitter. Esto es lo habitual cuando trabajamos con datos reales.\n",
        "\n",
        "Para esto, vamos a utilizar la biblioteca `pandas` la cual es ubiquita en el ecosistema de Python.\n",
        "\n",
        "Empezamos por cargar el dataset y observar alguas características generales."
      ]
    },
    {
      "cell_type": "code",
      "metadata": {
        "id": "ENcS-nMbH3I5"
      },
      "source": [
        "df_tweets = pd.read_csv(\"tweets_uru.csv\")\n",
        "\n",
        "print(df_tweets.shape)\n",
        "display(df_tweets.head())"
      ],
      "execution_count": null,
      "outputs": []
    },
    {
      "cell_type": "code",
      "metadata": {
        "id": "1QB1O72RH8em"
      },
      "source": [
        "df_tweets.info()"
      ],
      "execution_count": null,
      "outputs": []
    },
    {
      "cell_type": "code",
      "metadata": {
        "id": "HJvdTzbEIEZd"
      },
      "source": [
        "df_tweets.nunique()"
      ],
      "execution_count": null,
      "outputs": []
    },
    {
      "cell_type": "markdown",
      "metadata": {
        "id": "G1iJEE147oLL"
      },
      "source": [
        "El dataset tiene 17 columnas, las que resultan interesantes para este ejercicio son:\n",
        "\n",
        "* `text`: el texto del tweet\n",
        "* `screenName`: el usuario que envia el tweet\n",
        "* `isRetweet`: si el tweet es un retweet o es un texto original. Nota: todos los tweets que son retweets tienen en el campo text: \"RT @usuario_original: texto\"\n",
        "* `retweetCount`: cantidad de retweets que se hicieron sobre este tweet"
      ]
    },
    {
      "cell_type": "code",
      "metadata": {
        "id": "b_mQRPQK8qzJ"
      },
      "source": [
        "columns = ['text', 'screenName', 'isRetweet', 'retweetCount']\n",
        "\n",
        "display(df_tweets[columns])"
      ],
      "execution_count": null,
      "outputs": []
    },
    {
      "cell_type": "markdown",
      "metadata": {
        "id": "M2YYhx361kuI"
      },
      "source": [
        "##4.2) Tweets más populares, y eliminación del SPAM."
      ]
    },
    {
      "cell_type": "markdown",
      "metadata": {
        "id": "GUrCJ0FqI4M0"
      },
      "source": [
        "Los tweets con más retweets parecen ser spam."
      ]
    },
    {
      "cell_type": "code",
      "metadata": {
        "id": "1_mkCPFaIH8G"
      },
      "source": [
        "df_tweets.sort_values(\"retweetCount\", ascending=False).head(10)"
      ],
      "execution_count": null,
      "outputs": []
    },
    {
      "cell_type": "markdown",
      "metadata": {
        "id": "QLSrp_CVI79f"
      },
      "source": [
        "Investiguemos más esos tweets"
      ]
    },
    {
      "cell_type": "code",
      "metadata": {
        "id": "An8Sptx3Ijvj"
      },
      "source": [
        "fig, ax = plt.subplots(figsize=(16, 4))\n",
        "ax.set_yscale(\"log\")\n",
        "df_tweets[\"retweetCount\"].hist(bins=100, ax=ax)"
      ],
      "execution_count": null,
      "outputs": []
    },
    {
      "cell_type": "markdown",
      "metadata": {
        "id": "ZHdMOMWeJho0"
      },
      "source": [
        "Se observa que hay una gran separación en popularidad entre los tweets con unos pocos cientos de retweets, y los que tienen más de 15000 retweets.\n",
        "\n",
        "Parece que podemos hacer un corte en 15000, siendo spam los que tienen más retweets. \n",
        "\n",
        "Observar que eliminamos 28 tweets (de spam)."
      ]
    },
    {
      "cell_type": "code",
      "metadata": {
        "id": "BLvToHzZI_z8"
      },
      "source": [
        "df_tweets = df_tweets[df_tweets[\"retweetCount\"] < 15000]\n",
        "\n",
        "print(df_tweets.shape)"
      ],
      "execution_count": null,
      "outputs": []
    },
    {
      "cell_type": "markdown",
      "metadata": {
        "id": "pDX8lAbV4lnK"
      },
      "source": [
        "Repetir el histograma de cantidad de retweets"
      ]
    },
    {
      "cell_type": "code",
      "metadata": {
        "id": "eqiJKxeB22fg"
      },
      "source": [
        "### START CODE HERE\n",
        "### END CODE HERE\n"
      ],
      "execution_count": null,
      "outputs": []
    },
    {
      "cell_type": "markdown",
      "metadata": {
        "id": "0F3mL5uz5NUR"
      },
      "source": [
        "Mostrar los 5 tweets más populares (con más retweets) que no sean spam."
      ]
    },
    {
      "cell_type": "code",
      "metadata": {
        "id": "2XcPZrUJNqrD"
      },
      "source": [
        "### TIPs: ordenar los datos de acuerdo a la columna 'retweetCount'\n",
        "### START CODE HERE\n",
        "### END CODE HERE\n"
      ],
      "execution_count": null,
      "outputs": []
    },
    {
      "cell_type": "markdown",
      "metadata": {
        "id": "SdMd30Ng3mmc"
      },
      "source": [
        "##4.3) Crear la red de quién hace retweet de quién"
      ]
    },
    {
      "cell_type": "markdown",
      "metadata": {
        "id": "8pBXrPJ43woN"
      },
      "source": [
        "Vamos a crear la red de quién hace retweet de quién. \n",
        "\n",
        "Por tanto no nos sirven los tweets sin retweets.\n",
        "A continuación, procedemos a eliminarlos.\n",
        "\n",
        "Además, vamos a eliminar los tweets con solo un retweet, sino la red quedaría muy densa.\n",
        "\n",
        "Observar que eliminamos cerca de 1500 tweets (que no fueron reenviados o fueron reenviados solo una vez)."
      ]
    },
    {
      "cell_type": "code",
      "metadata": {
        "id": "qUaiyKS33xLm"
      },
      "source": [
        "df_tweets = df_tweets[df_tweets[\"retweetCount\"] >= 2]\n",
        "\n",
        "print(df_tweets.shape)"
      ],
      "execution_count": null,
      "outputs": []
    },
    {
      "cell_type": "markdown",
      "metadata": {
        "id": "d0A8Glort-OY"
      },
      "source": [
        "A continuación, le proponemos extraer una red a partir de estos datos. Para esto, vamos a crear una arista $e = (u,v)$ entre dos nodos $u$ y $v$ si $u$ retweeteo a $v$.\n",
        "\n",
        "Nosotros usando una simple heurística encontramos 2964"
      ]
    },
    {
      "cell_type": "code",
      "metadata": {
        "id": "FkLpdI9GK6tf"
      },
      "source": [
        "tweet_edges = None #dataframe con dos columnas \"source\" y \"retweeter\", con los nombres de usuarios de quien es el original del tweet y quien lo reenvio\n",
        "\n",
        "### TIPs: solo para los tweets que son retweets, quedarse con el usuario que origina el tweet dentro del campo text\n",
        "### START CODE HERE\n",
        "### END CODE HERE\n",
        "\n",
        "tweet_edges "
      ],
      "execution_count": null,
      "outputs": []
    },
    {
      "cell_type": "markdown",
      "metadata": {
        "id": "TfZxh3t1umc3"
      },
      "source": [
        "Una vez que tenemos las aristas, procedemos a crear el grafo dirigido de quién hace retweet de quién.\n",
        "\n",
        "Este grafo tiene 2368 nodos y 2964 aristas."
      ]
    },
    {
      "cell_type": "code",
      "metadata": {
        "id": "jjmxYHRUMohC"
      },
      "source": [
        "g_tweets = ig.Graph.TupleList(tweet_edges.itertuples(index=False), directed=True)\n",
        "\n",
        "g_tweets.summary()"
      ],
      "execution_count": null,
      "outputs": []
    },
    {
      "cell_type": "markdown",
      "metadata": {
        "id": "fCAhWTMFMAr1"
      },
      "source": [
        "Una visualización con nombres de los vértices para un grafo tan grande es un gran desafío.\n",
        "\n",
        "A continuación una visualización aceptable."
      ]
    },
    {
      "cell_type": "code",
      "metadata": {
        "id": "N4Xxcc9NECY5"
      },
      "source": [
        "random.seed(1234)\n",
        "visual_style = dict()\n",
        "visual_style[\"layout\"] = g_tweets.layout_drl(options={'simmer_attraction':0})\n",
        "visual_style[\"bbox\"] = (1200, 1200)\n",
        "visual_style[\"vertex_size\"] = 3\n",
        "visual_style[\"vertex_color\"] = 'red'\n",
        "visual_style[\"vertex_label\"] = g_tweets.vs[\"name\"]\n",
        "visual_style[\"vertex_label_size\"] = 4\n",
        "visual_style[\"edge_width\"] = 0.3\n",
        "visual_style[\"edge_arrow_size\"] = 0.1\n",
        "ig.plot(g_tweets, **visual_style)"
      ],
      "execution_count": null,
      "outputs": []
    },
    {
      "cell_type": "markdown",
      "metadata": {
        "id": "mJ91nwv4Mk2L"
      },
      "source": [
        "##4.4) Importancia de los usuarios (centralidad de vértices)"
      ]
    },
    {
      "cell_type": "markdown",
      "metadata": {
        "id": "s0NMXBH0usId"
      },
      "source": [
        "\n",
        "Como se llama el usuario con más retweets en la red.\n",
        "\n",
        "Solución:  `jgamorin`.\n"
      ]
    },
    {
      "cell_type": "code",
      "metadata": {
        "id": "JpO-T77yOM7G"
      },
      "source": [
        "### START CODE HERE\n",
        "### END CODE HERE\n"
      ],
      "execution_count": null,
      "outputs": []
    },
    {
      "cell_type": "markdown",
      "metadata": {
        "id": "HkVmJM_oc6l5"
      },
      "source": [
        "Podemos calcular las métricas de centralidad ya vistas y comprar los usuarios más populares de acuerdo a ellas.\n",
        "\n",
        "Solución (ordenado de más a menos centralidad):\n",
        "\n",
        "| betweeness    | hub            | authority       |\n",
        "|---------------|----------------|-----------------|\n",
        "| jgamorin      | jgamorin       | Nicomatute19    |\n",
        "| Rubiia215     | emekavoces     | ElOjoChurrinche |\n",
        "| YerbaSaraUy   | PabloLarraz10  | bugabea         |\n",
        "| nacho_uriarte | MaurAntunez    | colombopp       |\n",
        "| Cabrosa18     | Ciudadanos_MVD | juan37778491    |\n"
      ]
    },
    {
      "cell_type": "code",
      "metadata": {
        "id": "a0Ny2kisPS0q"
      },
      "source": [
        "### START CODE HERE\n",
        "### END CODE HERE\n"
      ],
      "execution_count": null,
      "outputs": []
    },
    {
      "cell_type": "markdown",
      "metadata": {
        "id": "cStBAarAUXS2"
      },
      "source": [
        "##4.5)(Opcional) Repetir con nuevos datos\n",
        "\n",
        "Lamentablemente desde 2015, las principales redes sociales han cerrado sus APIs para acceder a los datos de redes (amigos, etc). Solo algunas tienen un acceso limitado (gratuito o con suscripción). El sitio SociLab (http://socilab.com/) realizaba un análisis básico de la red Linkedin del usuario. De forma excepcional (y por razones históricas) este sitio tuvo acceso a esta API hasta el 2018. \n",
        "\n",
        "Actualmente estan todas cerradas, solo existen muchas ofertas de servicios online, que utilizan tu cuenta de usuario para extraer la información (muy parcial) de las redes sociales. Ejemplos son: \n",
        "* https://netlytic.org/,\n",
        "* https://mentionmapp.com/, \n",
        "* https://socioviz.net, etc. \n",
        "\n",
        "Los datos de la sección anterior se capturaron utilizando Netlytic con datos de twitter. La interfaz no es intuitiva, pero es potente. Los pasos son:\n",
        "* i) crear una cuenta;\n",
        "* ii) realizar un nuevo dataset vinculando tu cuenta de Twitter, escribiendo un nombre al dataset y las palabras de búsqueda (ej. “#Uruguay”); \n",
        "el resultado lleva unos minutos, y se puede acceder y en la sección “mi dataset”;\n",
        "* iii) descargar el dataset en formato .csv;\n",
        "* iv) una de las opciones de análisis es basado en redes, en donde puede visualizar la red y exportarla.\n",
        "\n",
        "También pueden descargarse los datos utilizando librerias específicas. \n",
        "Por ejemplo, el paquete de `R` llamado `twitteR`, realiza la tarea: \n",
        "* i) crear una cuenta de desarrollo en https://developer.twitter.com/;\n",
        "* ii) crear una aplicación de Twitter para obtener credenciales de acceso al API (consumer key, consumer secret, access token, access token secret);\n",
        "* iii) usar el API desde R. \n",
        "\n",
        "Puede por ejemplo descargarse los 5000 tweets más recientes de #Uruguay (o del tópico que se desee) y repetir las partes anteriores de la Sección 4).\n"
      ]
    }
  ]
}