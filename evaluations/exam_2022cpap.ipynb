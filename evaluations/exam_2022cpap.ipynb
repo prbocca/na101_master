{
  "nbformat": 4,
  "nbformat_minor": 0,
  "metadata": {
    "colab": {
      "name": "public_exam_2022cpap.ipynb",
      "provenance": [],
      "collapsed_sections": [],
      "toc_visible": true
    },
    "kernelspec": {
      "name": "python3",
      "display_name": "Python 3"
    },
    "language_info": {
      "name": "python"
    },
    "gpuClass": "standard"
  },
  "cells": [
    {
      "cell_type": "markdown",
      "metadata": {
        "id": "zxljf-xtQosC"
      },
      "source": [
        "# Evaluación Final - Curso \"Analisis de datos interrelacionados\" - 20200630\n",
        "\n",
        "\n",
        "# LEER ATENTAMENTE LO SIGUIENTE ANTES DE EMPEZAR\n",
        "\n",
        "# Consideraciones generales\n",
        "\n",
        "*   El trabajo es extrictamente individual\n",
        "*   Puede consultarse material de teórico y práctico (recordar la documnetación del API de `igraph`: https://igraph.org/python/doc/api/)\n",
        "*   No se aceptan trabajos fuera de plazo\n",
        "\n",
        "\n",
        "# 1. Ambiente COLAB remoto\n",
        "\n",
        "1.   Abrir en navegador: https://colab.research.google.com/\n",
        "2.   Abrir el notebook del examen:\n",
        "     File-> Open Notebook -> Github -> https://github.com/prbocca/na101_master -> evaluations/exam_2022cpap.ipynb\n",
        "3.   Guardar el notebook en su Google Drive:\n",
        "     File -> Save a Copy in Drive... \n",
        "4.   Renombrar el archivo `\"cedula ID\"_exam_2022cpap.ipynb`, por ejemplo *33484022_exam_2022cpap.ipynb*  (número de cédula con guión)\n",
        "5.   Al final usted deberá descargar el notebook. Asegurarse que se están guardando las salidas de ejecución en el notebook: File -> Download .ipynb\n",
        "6.   Luego estos archivos deberán ser enviados a prbocca@fing.edu.uy antes del tiempo máximo de entrega\n",
        "\n",
        "\n",
        "\n",
        "\n"
      ]
    },
    {
      "cell_type": "markdown",
      "metadata": {
        "id": "OngKRPsQQlIY"
      },
      "source": [
        "## 1.a) Cargar Librerias"
      ]
    },
    {
      "cell_type": "code",
      "metadata": {
        "id": "vTO20P1OQpvV"
      },
      "source": [
        "!pip install python-igraph > /dev/null\n",
        "!pip install cairocffi > /dev/null\n",
        "!pip install stellargraph > /dev/null"
      ],
      "execution_count": null,
      "outputs": []
    },
    {
      "cell_type": "code",
      "source": [
        "import os\n",
        "import scipy.io as sio\n",
        "import igraph as ig\n",
        "import numpy as np\n",
        "import random\n",
        "import pandas as pd\n",
        "import matplotlib.pyplot as plt\n",
        "import networkx as nx\n",
        "\n",
        "from sklearn.linear_model import LogisticRegression, LogisticRegressionCV\n",
        "from sklearn.preprocessing import LabelEncoder\n",
        "from sklearn.metrics import accuracy_score\n",
        "from sklearn.manifold import TSNE\n",
        "from sklearn.decomposition import PCA\n",
        "from sklearn.cluster import KMeans\n",
        "\n",
        "from stellargraph import StellarGraph\n",
        "from stellargraph import datasets\n",
        "from stellargraph.data import BiasedRandomWalk\n",
        "\n",
        "from IPython.display import display, HTML"
      ],
      "metadata": {
        "id": "kXCuBGEjrbLk"
      },
      "execution_count": null,
      "outputs": []
    },
    {
      "cell_type": "markdown",
      "metadata": {
        "id": "ctoiP53A7svn"
      },
      "source": [
        "# 2. Cargar y explorar los datos\n",
        "\n",
        "Trabajaremos con una red que representa las relaciones mutuas de amistad en secundaria. La red fue creada a partir de una simulación, y tiene $1461$ vértices (estudiantes) y $974$ aristas unidireccionales (amistad mutua). Los vértices tienen los siguientes atributos: Grade: el grado, de 7 a 12 años; Sex: (M)asculino o (F)emenino; y Race: la raza.\n",
        "\n",
        "Los datos originales surgen de una encuesta en dos colegios secundarios de la misma comunidad. Se completaron los datos faltantes y se unieron las dos fuentes para construir una única red (llamada aquí red original). Por razones de confidencialidad, no se dispone de la red original, sino de una red simulada.\n",
        "El proceso para generar la simulación fue: (i) mapear la red original, (ii) entrenar un ERGM (*Exponential Random Graph Model*) que ajuste bien a los datos originales, (iii) usando el modelo entrenado, sortear una red simulada (con la que trabajaremos).\n",
        "\n",
        "Fuente:\n",
        "Resnick M.D., Bearman, P.S., Blum R.W. et al. (1997). Protecting adolescents from harm. Findings from the National Longitudinal Study on Adolescent Health, Journal of the American Medical Association, 278: 823-32.\n",
        "\n"
      ]
    },
    {
      "cell_type": "markdown",
      "metadata": {
        "id": "3PeR_cd85j1Y"
      },
      "source": [
        "## 2.a) Descargar los datos en formato GRAPHML de una red de amistades, y cargar los datos como un grafo (de igraph)."
      ]
    },
    {
      "cell_type": "code",
      "source": [
        "# download data\n",
        "!wget \"https://github.com/prbocca/na101_master/raw/master/evaluations/g_magnolia.zip\" -O \"g_magnolia.zip\"\n",
        "!unzip -o g_magnolia.zip"
      ],
      "metadata": {
        "id": "9ZLKRQYEru1C"
      },
      "execution_count": null,
      "outputs": []
    },
    {
      "cell_type": "code",
      "source": [
        "# cargar el grafo en la variable g\n",
        "g = None\n",
        "\n",
        "# Tip: usar funcion de igraph\n",
        "### START CODE HERE\n",
        "### END CODE HERE\n",
        "print(ig.summary(g))\n"
      ],
      "metadata": {
        "id": "gkcheJ3oseqZ"
      },
      "execution_count": null,
      "outputs": []
    },
    {
      "cell_type": "code",
      "source": [
        "#dibujo el grafo\n",
        "\n",
        "def plot_amistad(graph, graphpart=None, **args):\n",
        "  \"\"\" Dibujo el grafo de amistades. Permite colorear según raza o según una partición en comunudades\"\"\"\n",
        "\n",
        "  color_map = {'F':'yellow', 'M':'blue'}\n",
        "  shapes_map = {'Asian':'rectangle', 'Black':'square', 'Hisp':'rectangle', 'NatAm':'rectangle', 'Other':'rectangle', 'White':'circle'}\n",
        "\n",
        "  random.seed(25)\n",
        "  visual_style = dict()\n",
        "  visual_style[\"layout\"] = graph.layout_drl()\n",
        "  visual_style[\"bbox\"] = (400, 400)\n",
        "  visual_style[\"vertex_size\"]  = [x*0.5 for x in graph.vs[\"Grade\"]]  \n",
        "  visual_style[\"vertex_label\"] = None\n",
        "  visual_style[\"vertex_color\"] = [color_map[x] for x in graph.vs[\"Sex\"]]  \n",
        "  visual_style[\"vertex_shape\"] = [shapes_map[x] for x in graph.vs[\"Race\"]]  \n",
        "  visual_style[\"edge_color\"] = 'black'\n",
        "  visual_style[\"edge_width\"] = 0.1\n",
        "  if (graphpart is None):\n",
        "    display(ig.plot(graph, **visual_style, **args))\n",
        "  else:\n",
        "    display(ig.plot(graphpart, **visual_style, mark_groups = True, **args))  \n",
        "    \n",
        "\n",
        "plot_amistad(g)"
      ],
      "metadata": {
        "id": "37EuPnHstKFs"
      },
      "execution_count": null,
      "outputs": []
    },
    {
      "cell_type": "markdown",
      "metadata": {
        "id": "bVNuikAbiy3d"
      },
      "source": [
        "## 2.b) Quedarme con la componente gigante del grafo\n",
        "\n",
        "En todas las siguientes secciones trabajaremos con el grafo de la componente gigante, que llamaremos `gc`.\n",
        "\n",
        "Al finalizar, el resultado debería verse de acuerdo a la siguiente figura:\n",
        "\n",
        "![Screenshot from 2022-06-19 08-15-52.png](data:image/png;base64,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)"
      ]
    },
    {
      "cell_type": "code",
      "source": [
        "# hacer la componente gigante\n",
        "def giant_component(graph, **args):\n",
        "  \"\"\"Calcula la componente gigante de un grafo \"\"\"\n",
        "  cl = graph.clusters(**args)\n",
        "  gc_idx = np.argmax(cl.sizes())\n",
        "  gc = graph.induced_subgraph([v.index for v in graph.vs if cl.membership[v.index] == gc_idx])\n",
        "  return (gc)"
      ],
      "metadata": {
        "id": "Ydjrz0SNqA6P"
      },
      "execution_count": null,
      "outputs": []
    },
    {
      "cell_type": "code",
      "source": [
        "# cargar el grafo de la componente gigante en la variable gc\n",
        "gc = None\n",
        "\n",
        "# Tip: usar funcion giant_component()\n",
        "### START CODE HERE\n",
        "### END CODE HERE\n",
        "print(ig.summary(gc))\n",
        "\n",
        "#dibujo el grafo\n",
        "plot_amistad(gc, title=\"Componente gigante de relaciones secundaria\")"
      ],
      "metadata": {
        "id": "rT6kpV8XfyTN"
      },
      "execution_count": null,
      "outputs": []
    },
    {
      "cell_type": "markdown",
      "metadata": {
        "id": "-4W-fzljkY3S"
      },
      "source": [
        "## 2.c) Interpretar los datos\n",
        "\n",
        "Responder a las siguientes preguntas sobre el grafo `gc`."
      ]
    },
    {
      "cell_type": "code",
      "metadata": {
        "id": "ZqBxZevZkkPK"
      },
      "source": [
        "# 2.c.1) ¿El grafo gc es dirigido?: \n",
        "### START CODE HERE\n",
        "### END CODE HERE\n"
      ],
      "execution_count": null,
      "outputs": []
    },
    {
      "cell_type": "code",
      "source": [
        "# 2.c.2) ¿Cuál es el tamaño del grafo gc?: \n",
        "### START CODE HERE\n",
        "### END CODE HERE\n"
      ],
      "metadata": {
        "id": "32M_WpCf7__b"
      },
      "execution_count": null,
      "outputs": []
    },
    {
      "cell_type": "code",
      "source": [
        "# 2.c.3) ¿Cuál es el orden del grafo gc?: \n",
        "### START CODE HERE\n",
        "### END CODE HERE\n"
      ],
      "metadata": {
        "id": "mT5zXdXX8APV"
      },
      "execution_count": null,
      "outputs": []
    },
    {
      "cell_type": "code",
      "source": [
        "# 2.c.4) En el dibujo, ¿qué representa el color de los vértices?, ¿y qué representa la forma de los vértices?: \n",
        "### START CODE HERE\n",
        "### END CODE HERE\n"
      ],
      "metadata": {
        "id": "nXKnaA-i8AhD"
      },
      "execution_count": null,
      "outputs": []
    },
    {
      "cell_type": "markdown",
      "metadata": {
        "id": "GgM7RFMfnTha"
      },
      "source": [
        "## 2.d) Estudiantes con más y menos amigos en la componente gigante\n",
        "\n",
        "Obtener la cantidad de estudiantes con menos amigos.\n",
        "\n",
        "Obtener el nombre (atributo de vértice `name`) de los estudiantes con más amigos.\n",
        "\n",
        "Además graficar el histograma de la distribución de grafo.\n",
        "\n",
        "Nota: TODOS LOS CALCULOS EN LA COMPONENTE GIGANTE"
      ]
    },
    {
      "cell_type": "code",
      "source": [
        "# cantidad de estudiantes con menos amigos\n",
        "\n",
        "print(\"Los estudiantes con menos amigos tienen solo \" + str(min(gc.degree())) + \" amigo.\")\n",
        "\n",
        "cant_menosamigos = None #cantidad de estudiantes con menos amigos\n",
        "### START CODE HERE\n",
        "### END CODE HERE\n",
        "print(\"La cantidad de estudiantes que tienen menos amigos son: \" + str(cant_menosamigos))"
      ],
      "metadata": {
        "id": "WHjL23xytkwR"
      },
      "execution_count": null,
      "outputs": []
    },
    {
      "cell_type": "code",
      "metadata": {
        "id": "7UQtLGtmnzM2"
      },
      "source": [
        "# estudiantes con mas amigos\n",
        "\n",
        "name_masamigos = None #vector de nombres de estudiantes con mas amigos\n",
        "cant_masamigos = None #cantidad de estudiantes con mas amigos\n",
        "### START CODE HERE\n",
        "### END CODE HERE\n",
        "print(\"Los nombres de los estudiantes que tienen mas amigos son: \" + str(name_masamigos))\n",
        "print(\"La cantidad de estudiantes que tienen mas amigos son: \" + str(cant_masamigos))"
      ],
      "execution_count": null,
      "outputs": []
    },
    {
      "cell_type": "code",
      "metadata": {
        "id": "w8yIuAm5oO9N"
      },
      "source": [
        "# histograma de distribución de grado\n",
        "\n",
        "### START CODE HERE\n",
        "### END CODE HERE\n"
      ],
      "execution_count": null,
      "outputs": []
    },
    {
      "cell_type": "code",
      "source": [
        "# 2.d.1) Viendo el histograma, ¿Cuál es la cantidad de amigos más frecuente entre estudiantes?:\n",
        "### START CODE HERE\n",
        "### END CODE HERE\n"
      ],
      "metadata": {
        "id": "CJXer0NQwsQF"
      },
      "execution_count": null,
      "outputs": []
    },
    {
      "cell_type": "markdown",
      "metadata": {
        "id": "IZjDaM0mi0Pe"
      },
      "source": [
        "## 2.e) Responder algunas preguntas teóricas relacionadas a este tema\n"
      ]
    },
    {
      "cell_type": "code",
      "metadata": {
        "id": "QZJN4qeoi3k8"
      },
      "source": [
        "# 2.e.1) ¿Cuáles son las 4 categorías generales en las que se clasifican las redes reales?\n",
        "### START CODE HERE\n",
        "### END CODE HERE\n"
      ],
      "execution_count": null,
      "outputs": []
    },
    {
      "cell_type": "code",
      "source": [
        "# 2.e.2) ¿Qué es el 'orden' de un grafo?\n",
        "### START CODE HERE\n",
        "### END CODE HERE\n"
      ],
      "metadata": {
        "id": "0B9FUUHA8TNl"
      },
      "execution_count": null,
      "outputs": []
    },
    {
      "cell_type": "code",
      "source": [
        "# 2.e.3) ¿Las redes reales son típicamente densas o dispersas?\n",
        "### START CODE HERE\n",
        "### END CODE HERE\n"
      ],
      "metadata": {
        "id": "0FqTwdwJ8TiO"
      },
      "execution_count": null,
      "outputs": []
    },
    {
      "cell_type": "code",
      "source": [
        "# 2.e.4) ¿Qué es la componente gigante de una red?\n",
        "### START CODE HERE\n",
        "### END CODE HERE\n"
      ],
      "metadata": {
        "id": "rxgmDkHz8Tyv"
      },
      "execution_count": null,
      "outputs": []
    },
    {
      "cell_type": "code",
      "source": [
        "# 2.e.5) ¿Típicamente los hipergrafos se representan como un grafo de qué tipo?\n",
        "### START CODE HERE\n",
        "### END CODE HERE\n"
      ],
      "metadata": {
        "id": "lKv0CxyU8ULn"
      },
      "execution_count": null,
      "outputs": []
    },
    {
      "cell_type": "markdown",
      "metadata": {
        "id": "T3mULzyQr5DW"
      },
      "source": [
        "# 3. Centralidad de vértices\n",
        "\n",
        "Estudiar cuales son los estudiantes más importantes en el grafo `gc`...\n",
        "\n",
        "Utilizando el paquete `igraph` calcular las métricas de centralidad: `degree(), closeness(), betweenness(), evcent(), page.rank()`, \n",
        "y comparar los tres usuarios con mayor centralidad para cada una de ellas.\n"
      ]
    },
    {
      "cell_type": "markdown",
      "metadata": {
        "id": "jnBq_gVq5xOG"
      },
      "source": [
        "## 3.a) Obtener las centralidades de los tres estudiantes más importantes\n",
        "\n",
        "Nota: puede responderse con los indices de los vértices o con los nombres"
      ]
    },
    {
      "cell_type": "code",
      "source": [
        "# calcular centralidades y imprimir los 3 estudiantes más importantes para cada una de ellas\n",
        "\n",
        "### START CODE HERE\n",
        "### END CODE HERE\n"
      ],
      "metadata": {
        "id": "NhWhMjBZxcbX"
      },
      "execution_count": null,
      "outputs": []
    },
    {
      "cell_type": "markdown",
      "metadata": {
        "id": "MwX8gX80jYq-"
      },
      "source": [
        "## 3.b) Responder algunas preguntas teóricas relacionadas a este tema"
      ]
    },
    {
      "cell_type": "code",
      "metadata": {
        "id": "XG4F1NOujgb8"
      },
      "source": [
        "# 3.b.1) Si la ponderación (pesos) de un grafo presenta errores de medida, ¿cuál es la centralidad que esperamos más se afecte por esos errores?\n",
        "### START CODE HERE\n",
        "### END CODE HERE\n"
      ],
      "execution_count": null,
      "outputs": []
    },
    {
      "cell_type": "code",
      "source": [
        "# 3.b.2) ¿Qué problema resuelve la centralidad Page-Rank si la comparamos con la centralidad de vector propio?\n",
        "### START CODE HERE\n",
        "### END CODE HERE\n"
      ],
      "metadata": {
        "id": "xyToaYC28kQC"
      },
      "execution_count": null,
      "outputs": []
    },
    {
      "cell_type": "code",
      "source": [
        "# 3.b.3) ¿Cuál es el nombre (o la sigla) de la centralidad que ofrece un valor de autoridad y otro de hub?\n",
        "### START CODE HERE\n",
        "### END CODE HERE\n"
      ],
      "metadata": {
        "id": "sTejBcV68keE"
      },
      "execution_count": null,
      "outputs": []
    },
    {
      "cell_type": "markdown",
      "metadata": {
        "id": "fydJlkhbuLoj"
      },
      "source": [
        "# 4. Detección de comunidades\n",
        "\n",
        "Buscaremos particionar el grafo `gc` de acuerdo a su estructura, es decir detectaremos sus comunidades."
      ]
    },
    {
      "cell_type": "markdown",
      "metadata": {
        "id": "dyS0noYZufeY"
      },
      "source": [
        "## 4.a) Particionado goloso\n",
        "\n",
        "La librería `igraph` ofrece varios métodos para detectar comunidades. \n",
        "Uno de ellos es el particionado goloso rápido (clustering jerárquico aglomerativo) visto en clase.\n",
        "\n",
        "Realizar el particionado goloso rápido en varias comunidades usando las funciones de `igraph`: `community_fastgreedy()` y `as_clustering()`.\n"
      ]
    },
    {
      "cell_type": "code",
      "source": [
        "#  realizar el particionado golozo\n",
        "random.seed(10)\n",
        "\n",
        "gc_fg_dendrogram = gc.community_fastgreedy()\n",
        "gc_fg_clusters = gc_fg_dendrogram.as_clustering()\n",
        "print(\"Cantidad de comunidades encontradas: \" + str(len(gc_fg_clusters)))\n",
        "print(\"La mayoría de las comunidades son muy pequeñas:\")\n",
        "display(gc_fg_clusters.sizes())\n",
        "\n",
        "#dibujo el grafo\n",
        "plot_amistad(gc, gc_fg_clusters)"
      ],
      "metadata": {
        "id": "kruacb3h1Yj5"
      },
      "execution_count": null,
      "outputs": []
    },
    {
      "cell_type": "markdown",
      "metadata": {
        "id": "OHEgA6h4x7Aw"
      },
      "source": [
        "Dado que el método de particionado es jerárquico es posible definir la cantidad de comunidades que se quiere. Utilizando el cálculo anterior, particionaremos solo en dos comunidades."
      ]
    },
    {
      "cell_type": "code",
      "metadata": {
        "id": "BZZ8jNksuGie"
      },
      "source": [
        "#  cortar el dendograma en 2 clusters\n",
        "gc_fg_clusters2 = gc_fg_dendrogram.as_clustering(n=2)\n",
        "print(\"Cantidad de comunidades encontradas: \" + str(len(gc_fg_clusters2)))\n",
        "print(\"dos grandes comunidades:\")\n",
        "display(gc_fg_clusters2.sizes())\n",
        "\n",
        "#dibujo el grafo\n",
        "plot_amistad(gc, gc_fg_clusters2)"
      ],
      "execution_count": null,
      "outputs": []
    },
    {
      "cell_type": "markdown",
      "source": [
        "## 4.b) Particionado usando el espacio embebido: Laplacian Eigenmap"
      ],
      "metadata": {
        "id": "jo1-pr1zSlv5"
      }
    },
    {
      "cell_type": "markdown",
      "source": [
        "### 4.b.1) Laplacian Eigenmap\n",
        "Una de las formas más simples y eficaces de embember los vértices de un grafo en un espacio vectorial se conoce como `Laplacian Eigenmap`. \n",
        "\n",
        "Este método es un caso muy sencillo de embebido superficial que sigue el framework `encoder-decoder`. \n",
        "* Al ser superficial, el `encoder` es una función de mapeo (tabla): $ENC(u)=\\mathbf{Z}[u]$, donde $\\mathbf{Z} \\in \\mathbb{R}^{|V| \\times d}$, \n",
        "* y el `decoder` es la función de parejas de vectores de vértices definida:\n",
        "$$ DEC(\\mathbf{Z}[u], \\mathbf{Z}[v]) = || \\mathbf{Z}[u] - \\mathbf{Z}[v] ||_2^2.$$\n",
        "\n",
        "Cuando se entrena el espacio embebido para que la similaridad entre los vectores sea la matriz laplaciana, se puede demostrar (ver teórico) que este método de embebido corresponde a elegir $\\mathbf{Z} \\sim$ los $d$ vectores propios de $L$ de valor propio más pequeño, exceptuando el valor propio 0.\n",
        "\n",
        "Aplicaremos este resultado entonces:\n",
        "* 1) Primero, empezamos por construir el laplaciano del grafo: $ L = D - A$. Esto es bastante sencillo de hacer con `igraph`.\n",
        "\n",
        "* 2) Luego, tenemos que calcular los valores y vectores propios del laplaciano. Esto también es fácil de hacer usando `numpy`.\n",
        "\n",
        "* 3) Vamos a necesitar los vectores propios ordenados de menos a mayor.\n",
        "\n",
        "* 4) En el espacio de vectores propios, a cada vértice le corresponde un vector de tamaño $N$ (donde $N$ son la cantidad de nodos en el grafo). Luego, para embeber los vértices en un espacio de dimensión $d$ vamos a quedarnos con las $d$ coordenadas de cada nodo asociadas a los valores propios más chicos (sin contar el más chico de todos, ese lo ignoramos). Veamos como ejemplo sencillo $d=3$."
      ],
      "metadata": {
        "id": "NZt29hW2ecqc"
      }
    },
    {
      "cell_type": "code",
      "source": [
        "#1)\n",
        "# construimos la matriz laplaciana de gc\n",
        "L = None\n",
        "### START CODE HERE\n",
        "### END CODE HERE\n",
        "\n",
        "#2)\n",
        "eig_val, eig_vec = np.linalg.eig(L)\n",
        "\n",
        "#3)\n",
        "idx = eig_val.argsort()\n",
        "eig_val = eig_val[idx]\n",
        "eig_vec = eig_vec[:, idx]\n",
        "print(\"Los valores propios son:\\n\", eig_val.shape)\n",
        "print(\"Los vectores propios estan en una matriz NxN:\\n\", eig_vec.shape)\n",
        "\n",
        "#4)\n",
        "d = 3\n",
        "encoder_laplacian_eigenmap = eig_vec[:, 1: 1 + d] # El eje 0 es la cantidad de nodos y el eje 1 es la dimensión\n",
        "print(\"El embebido superficial tiene dimensiones \", encoder_laplacian_eigenmap.shape)"
      ],
      "metadata": {
        "id": "0ASdgPgHTCbq"
      },
      "execution_count": null,
      "outputs": []
    },
    {
      "cell_type": "markdown",
      "source": [
        "### 4.b.2) K-Mean sobre el espacio embebido\n",
        "\n",
        "Utilizando el espacio embebido apliquemos un K-Mean para detectar las comunidades.\n",
        "\n",
        "Esperamos obtener una partición parecida a la obtenida con el particinoado goloso:\n",
        "\n",
        "![Screenshot from 2022-06-19 12-11-24.png](data:image/png;base64,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)"
      ],
      "metadata": {
        "id": "ZsXEEVtzeET4"
      }
    },
    {
      "cell_type": "code",
      "source": [
        "#aplico kmeans y obtengo la comunidad de cada vertice\n",
        "km = KMeans(n_clusters=2, init='random', n_init=10, max_iter=300, tol=1e-04, random_state=0)\n",
        "gc_km_membership = km.fit_predict(encoder_laplacian_eigenmap)\n",
        "display(gc_km_membership)\n",
        "\n",
        "#convierto los membership a un objeto de cluster para graficar\n",
        "gc_km_clusters = ig.VertexClustering(gc, membership=gc_km_membership)\n",
        "plot_amistad(gc, gc_km_clusters)"
      ],
      "metadata": {
        "id": "ECbsVU25a1fK"
      },
      "execution_count": null,
      "outputs": []
    },
    {
      "cell_type": "markdown",
      "source": [
        "Nos gustaría evaluar si este espacio embebido puede ser útil para clasificar el atributo `Sex`. Para eso decidimos graficarlo usando t-distributed stochastic neighbor embedding (t-SNE), esperando que aparezcan clusters según el sexo."
      ],
      "metadata": {
        "id": "haVRlo7chkNY"
      }
    },
    {
      "cell_type": "code",
      "source": [
        "print(\"Usaremos el embebido superficial calculado antes: \", encoder_laplacian_eigenmap.shape)\n",
        "\n",
        "node_targets_laplacian_eigenmap = pd.Series(gc.vs[\"Sex\"]).astype(\"category\")\n",
        "print(\"Y pintaremos según la variable categorica del sexo: \", node_targets_laplacian_eigenmap.head())\n",
        "\n",
        "# Graficar estos puntos, usando tSNE, reduciendo el espacio embebido a dos dimensiones, y pintando según el grado.\n",
        "### START CODE HERE\n",
        "### END CODE HERE\n"
      ],
      "metadata": {
        "id": "1SrxexiWWQtZ"
      },
      "execution_count": null,
      "outputs": []
    },
    {
      "cell_type": "code",
      "source": [
        "# ¿Los sexos se separan en la gráfica tSNE? ¿El embebido será muy útil para clasificar el sexo?\n",
        "### START CODE HERE\n",
        "### END CODE HERE\n"
      ],
      "metadata": {
        "id": "ljaGH8v3xJCZ"
      },
      "execution_count": null,
      "outputs": []
    },
    {
      "cell_type": "markdown",
      "metadata": {
        "id": "ZYPQx2urlhl1"
      },
      "source": [
        "## 4.c) Responder algunas preguntas teóricas relacionadas a este tema"
      ]
    },
    {
      "cell_type": "code",
      "source": [
        "# 4.c.1) Existen muchas definiciones para subgrupo cohesivo en un grafo, la mayoría se basan en relajar el concepto de:...\n",
        "### START CODE HERE\n",
        "### END CODE HERE\n"
      ],
      "metadata": {
        "id": "e-EyM9MYGs9h"
      },
      "execution_count": null,
      "outputs": []
    },
    {
      "cell_type": "code",
      "source": [
        "# 4.c.2) Si en una red social tenemos una ponderación de fortaleza en las aristas, esperamos encontrar los vínculos débiles en las aristas puente?\n",
        "### START CODE HERE\n",
        "### END CODE HERE\n"
      ],
      "metadata": {
        "id": "JSQzg2VOGtC2"
      },
      "execution_count": null,
      "outputs": []
    },
    {
      "cell_type": "code",
      "source": [
        "# 4.c.3) El particionado espectral se basa en maximizar la:... \n",
        "### START CODE HERE\n",
        "### END CODE HERE\n"
      ],
      "metadata": {
        "id": "hOJ8m2GaGtM3"
      },
      "execution_count": null,
      "outputs": []
    },
    {
      "cell_type": "markdown",
      "metadata": {
        "id": "0cYmwzpcY1j5"
      },
      "source": [
        "# 5. Predicción de información faltante en una subred de la componente gigante\n",
        "\n",
        "Estudiaremos que tan predictiva es la información de red. \n",
        "Primero estudiaremos la homofilia y mezcla selectiva en la red, y luego estudiaremos la predicción de atributos de vértices."
      ]
    },
    {
      "cell_type": "markdown",
      "metadata": {
        "id": "DgrHVFzEObdF"
      },
      "source": [
        "## 5.a) Homofilia y mezcla selectiva"
      ]
    },
    {
      "cell_type": "code",
      "source": [
        "def mezcla_selectiva(graph, attr):\n",
        "  \"\"\" funcion que acumula los atributos de los vertices incientes a todas las aristas\"\"\"\n",
        "  v = graph.get_vertex_dataframe()[attr]\n",
        "  attr_uniques = sorted(v.unique())\n",
        "  ms = pd.DataFrame(np.zeros((len(attr_uniques),len(attr_uniques))), index=attr_uniques, columns=attr_uniques).astype(int)\n",
        "  el = graph.get_edgelist()\n",
        "  for e in el:\n",
        "    i = graph.vs[e[0]][attr]\n",
        "    j = graph.vs[e[1]][attr]\n",
        "\n",
        "    if graph.is_directed():\n",
        "      ms.loc[i,j] = ms.loc[i,j] + 1\n",
        "    else:\n",
        "      if i<j:\n",
        "        ms.loc[i,j] = ms.loc[i,j] + 1\n",
        "      else:\n",
        "        ms.loc[j,i] = ms.loc[j,i] + 1\n",
        "\n",
        "  return(ms)\n",
        "\n",
        "ms_Sex = mezcla_selectiva(gc, \"Sex\")\n",
        "print(\"La matriz de mezcla selectiva según Sex es:\")\n",
        "display(ms_Sex)"
      ],
      "metadata": {
        "id": "Sp3087XoHbQy"
      },
      "execution_count": null,
      "outputs": []
    },
    {
      "cell_type": "markdown",
      "source": [
        "Calcular la matriz de mezcla selectiva para los atributos `Grade` y `Race`."
      ],
      "metadata": {
        "id": "k26Y8ulXMSz3"
      }
    },
    {
      "cell_type": "code",
      "source": [
        "ms_Grade = None\n",
        "ms_Race = None\n",
        "### START CODE HERE\n",
        "### END CODE HERE\n",
        "print(\"La matriz de mezcla selectiva según Grade es:\")\n",
        "display(ms_Grade)\n",
        "print(\"La matriz de mezcla selectiva según Race es:\")\n",
        "display(ms_Race)"
      ],
      "metadata": {
        "id": "cGhjv3ijHbjf"
      },
      "execution_count": null,
      "outputs": []
    },
    {
      "cell_type": "code",
      "source": [
        "# 5.a.1) Dar opinión: ¿qué variable (Sex/Grade/Race) parece mostrar más homofilia positiva?\n",
        "### START CODE HERE\n",
        "### END CODE HERE\n"
      ],
      "metadata": {
        "id": "6j5_5YQLHbvP"
      },
      "execution_count": null,
      "outputs": []
    },
    {
      "cell_type": "markdown",
      "metadata": {
        "id": "zmyb8MVnInfE"
      },
      "source": [
        "## 5.b) Predicción de atributos de vértices en la componente gigante de la red de amistad\n",
        "\n",
        "Un método sencillo para predecir los atributos faltantes es el método de los vecinos más cercanos (*NNM - nearest-neighbor method*), donde se estima el atributo faltante en el vértice $i$ como el promedio de los atributos en el vecindario de $i$. La idea de vecindario y promedio puede variar dependiendo del caso particular. Este método suele funcionar bien cuando existe una marcada homofilia entre los vértices participantes respecto a ese atributo.\n",
        "\n",
        "\n",
        "Aquí evaluaremos la precisión del método NNM, sobre una subred observada donde conocemos solo 300 atributos de vértice `Sex` de la red `gc`. Y evaluaremos la predicción sobre el resto.\n",
        "El atributo `Sex`, disponible en la red, es una variable categórica. Por tal motivo, el promedio sobre los vecinos del método NNM se define como el enumerado de mayor frecuencia. Para otros atributos numéricos podemos utilizar el promedio.\n",
        "Para medir la calidad de predicción del método usaremos la exactitud  (*accuracy* - fracción de predicciones correctas).\n",
        "\n",
        "\n",
        "\n"
      ]
    },
    {
      "cell_type": "markdown",
      "metadata": {
        "id": "K5ofFM7LR_eM"
      },
      "source": [
        " Elegimos el conjunto de train con 300 vértices al azar. Serán los vértices de los que conocemos el atributo a predecir. Y evaluaremos la calidad del método con la predicción en los restantes vértices."
      ]
    },
    {
      "cell_type": "code",
      "execution_count": null,
      "metadata": {
        "id": "7kfEX6J6R_eM"
      },
      "outputs": [],
      "source": [
        "r = np.random.RandomState(5434)\n",
        "\n",
        "train_index = None #Arreglo Numpy con un listado al azar de 200 identificadores de vértices\n",
        "# Tip: ejemplo de práctico\n",
        "### START CODE HERE\n",
        "### END CODE HERE\n",
        "\n",
        "display(train_index)"
      ]
    },
    {
      "cell_type": "markdown",
      "source": [
        "Tenemos las siguientes funciones que calculan el NNM."
      ],
      "metadata": {
        "id": "n4lUEUgxmyCy"
      }
    },
    {
      "cell_type": "code",
      "source": [
        "def nnm_node(graph, node, attr=\"label\", fun=\"freq\", known_index=None, default_attr=None):\n",
        "  \"\"\" Calculo el NNM para el nodo\"\"\"\n",
        "\n",
        "  if known_index is None:\n",
        "    known_index = [v.index for v in graph.vs]\n",
        "\n",
        "  neigbs = graph.neighborhood(order=1, vertices=node, mindist=1)\n",
        "  known_neigbs = [n for n in neigbs if n in known_index]\n",
        "  known_attrs = [v[attr] for v in graph.vs if v.index in known_neigbs]\n",
        "  if len(known_attrs)==0:\n",
        "    return(default_attr)\n",
        "\n",
        "  if (fun==\"mean\"):\n",
        "    return(np.mean(known_attrs))\n",
        "  elif (fun==\"freq\"):\n",
        "    return(max(set(known_attrs), key = known_attrs.count))\n",
        "\n",
        "\n",
        "def nnm(graph, attr=\"label\", fun=\"freq\", known_index=None, default_attr=None):\n",
        "  \"\"\" Calcula el NNM para todos los vertices de graph, para el atributo attr, usando la funcion de agregacion fun sobre el conjunto de vertices known_index. \n",
        "  Si no hay vecinos que cumplan criterio retornoa default_attr\"\"\"\n",
        "\n",
        "  result_lt = []\n",
        "  for v in graph.vs:\n",
        "    result_lt.append(nnm_node(graph, v.index, attr, fun, known_index, default_attr))\n",
        "  return(result_lt)\n"
      ],
      "metadata": {
        "id": "wWF0a3NFYWTt"
      },
      "execution_count": null,
      "outputs": []
    },
    {
      "cell_type": "markdown",
      "source": [
        "Aplicamos NNM para el atributo `Sex`."
      ],
      "metadata": {
        "id": "JfChxnVrm-kv"
      }
    },
    {
      "cell_type": "code",
      "source": [
        "predicted_nnm = nnm(gc, attr=\"Sex\", fun=\"freq\", known_index=train_index, default_attr='NA')\n",
        "node_targets_nnm = pd.Series(gc.vs[\"Sex\"]).astype(\"category\")\n",
        "\n",
        "df_nnm = pd.DataFrame({'target':node_targets_nnm, 'pred':predicted_nnm})\n",
        "acc = accuracy_score(df_nnm.loc[~df_nnm.index.isin(train_index), 'target'], df_nnm.loc[~df_nnm.index.isin(train_index), 'pred'])\n",
        "print(f\"Model NNM for attribute Sex has an accuracy of {acc:0.4f}\")\n"
      ],
      "metadata": {
        "id": "b42IkV0Gmra5"
      },
      "execution_count": null,
      "outputs": []
    },
    {
      "cell_type": "code",
      "source": [
        "# 5.b.1) ¿Qué se puede concluir sobre la homofilia de 'Sex' en esta red de amistad?\n",
        "### START CODE HERE\n",
        "### END CODE HERE\n"
      ],
      "metadata": {
        "id": "zQ1MzLYgmrj5"
      },
      "execution_count": null,
      "outputs": []
    },
    {
      "cell_type": "markdown",
      "source": [
        "Ahora aplicamos NNM para el atributo `Grade`. Usar como función de agregación `freq` y atributo por defecto $0$ (numérico)."
      ],
      "metadata": {
        "id": "58gloOzWnJOb"
      }
    },
    {
      "cell_type": "code",
      "source": [
        "\n",
        "predicted_nnm = None #lista ordenada donde se guarda el atributo predicho para todos los vertices\n",
        "### START CODE HERE\n",
        "### END CODE HERE\n",
        "\n",
        "node_targets_nnm = pd.Series(gc.vs[\"Grade\"]).astype(\"category\")\n",
        "\n",
        "df_nnm = pd.DataFrame({'target':node_targets_nnm, 'pred':predicted_nnm})\n",
        "acc = accuracy_score(df_nnm.loc[~df_nnm.index.isin(train_index), 'target'], df_nnm.loc[~df_nnm.index.isin(train_index), 'pred'])\n",
        "print(f\"Model NNM for attribute Grade has an accuracy of {acc:0.4f}\")"
      ],
      "metadata": {
        "id": "4aK5bQGeiz6H"
      },
      "execution_count": null,
      "outputs": []
    },
    {
      "cell_type": "markdown",
      "source": [
        "Ahora buscaremos predecir el atributo usando un espacio embebido Laplacian Eigenmap, similar a 4.b.1), pero de dimensión $d=32$.\n",
        "\n",
        "Primero calculamos el espacio embebido."
      ],
      "metadata": {
        "id": "YIr_D64_nqgY"
      }
    },
    {
      "cell_type": "code",
      "source": [
        "\n",
        "eig_vec = None #vectores propios ordenados\n",
        "# Tip: ver parte 4.b.1\n",
        "### START CODE HERE\n",
        "### END CODE HERE\n",
        "\n",
        "#4)\n",
        "d = 32\n",
        "encoder_laplacian_eigenmap = eig_vec[:, 1: 1 + d] # El eje 0 es la cantidad de nodos y el eje 1 es la dimensión\n",
        "print(\"El embebido superficial tiene dimensiones \", encoder_laplacian_eigenmap.shape)\n",
        "\n",
        "node_targets_laplacian_eigenmap = pd.Series(gc.vs[\"Grade\"]).astype(\"category\")"
      ],
      "metadata": {
        "id": "GGqtJqcKRqg3"
      },
      "execution_count": null,
      "outputs": []
    },
    {
      "cell_type": "markdown",
      "metadata": {
        "id": "AGIScjkwRz77"
      },
      "source": [
        "Ahora vamos a predecir la categoría de los vértices usando una regresión logística.\n",
        "\n",
        "Lo que vamos a hacer aquí es para cada dataset, separar el conjunto de train y test para luego entrenar una regresión."
      ]
    },
    {
      "cell_type": "code",
      "execution_count": null,
      "metadata": {
        "id": "3bMRM6gwR_eM"
      },
      "outputs": [],
      "source": [
        "df_laplacian = pd.DataFrame(encoder_laplacian_eigenmap)\n",
        "df_laplacian['target']= pd.Categorical(node_targets_laplacian_eigenmap)\n",
        "\n",
        "train_df = df_laplacian[df_laplacian.index.isin(train_index)]\n",
        "test_df = df_laplacian[~df_laplacian.index.isin(train_index)]\n",
        "y_train = train_df.pop(\"target\")\n",
        "y_test = test_df.pop(\"target\")\n",
        "\n",
        "log_reg = LogisticRegressionCV(Cs=10,\n",
        "                              cv=10,\n",
        "                              tol=0.001,\n",
        "                              max_iter=1000,\n",
        "                              scoring=\"accuracy\",\n",
        "                              verbose=False,\n",
        "                              multi_class=\"ovr\",\n",
        "                              random_state=r)\n",
        "log_reg.fit(train_df, y_train)\n",
        "predicted = log_reg.predict(test_df)\n",
        "\n",
        "acc = accuracy_score(y_test, predicted)\n",
        "print(f\"Model Laplacian Eigenmap has an accuracy of {acc:0.4f}\")"
      ]
    },
    {
      "cell_type": "code",
      "source": [
        "# 5.b.1) ¿El método NNM mostró que existe predictibilidad del grado de un estudiante en la red?\n",
        "### START CODE HERE\n",
        "### END CODE HERE\n"
      ],
      "metadata": {
        "id": "ukfLsiktO3VE"
      },
      "execution_count": null,
      "outputs": []
    },
    {
      "cell_type": "code",
      "source": [
        "# 5.b.2) ¿El espacio embebido resultó util para predecir el grado de un estudiante?\n",
        "### START CODE HERE\n",
        "### END CODE HERE\n"
      ],
      "metadata": {
        "id": "QvPMT0svOg8n"
      },
      "execution_count": null,
      "outputs": []
    },
    {
      "cell_type": "markdown",
      "metadata": {
        "id": "6IbzR9vWna-I"
      },
      "source": [
        "## 5.c) Responder algunas preguntas teóricas relacionadas a este tema"
      ]
    },
    {
      "cell_type": "code",
      "source": [
        "# 5.c.1) Típicamente las distribuciones de grado de las redes reales siguen una distribución:.... \n",
        "### START CODE HERE\n",
        "### END CODE HERE\n"
      ],
      "metadata": {
        "id": "IWZTOGEQRkCW"
      },
      "execution_count": null,
      "outputs": []
    },
    {
      "cell_type": "code",
      "source": [
        "# 5.c.2) ¿Qué conviene graficar para ver la distribución de grado de una gran red real: el histograma o la CCDF?: CCDF\n",
        "### START CODE HERE\n",
        "### END CODE HERE\n"
      ],
      "metadata": {
        "id": "S6yK3vpDRkM1"
      },
      "execution_count": null,
      "outputs": []
    }
  ]
}