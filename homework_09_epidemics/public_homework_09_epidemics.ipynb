{
  "nbformat": 4,
  "nbformat_minor": 5,
  "metadata": {
    "kernelspec": {
      "display_name": "Python 3 (ipykernel)",
      "language": "python",
      "name": "python3"
    },
    "language_info": {
      "codemirror_mode": {
        "name": "ipython",
        "version": 3
      },
      "file_extension": ".py",
      "mimetype": "text/x-python",
      "name": "python",
      "nbconvert_exporter": "python",
      "pygments_lexer": "ipython3",
      "version": "3.8.8"
    },
    "colab": {
      "name": "public_homework_09_epidemics.ipynb",
      "provenance": [],
      "collapsed_sections": [],
      "toc_visible": true
    }
  },
  "cells": [
    {
      "cell_type": "markdown",
      "metadata": {
        "id": "85sNl1ailHU2"
      },
      "source": [
        "# Práctico 9: Difusión de epidemias"
      ],
      "id": "85sNl1ailHU2"
    },
    {
      "cell_type": "markdown",
      "metadata": {
        "id": "nrZXWpp8m-12"
      },
      "source": [
        "# Introducción\n",
        "\n",
        "El objectivo de este práctico es explorar como la topología de la red de contactos (grafo de potenciales contagios entre individuos) puede impactar en el comportamiento de una epidemia.\n",
        "\n",
        "Para esto, vamos a implementar un simulador que nos ayude a corroborar hipótesis acerca de la difusión de procesos dinámicos en grafos. "
      ],
      "id": "nrZXWpp8m-12"
    },
    {
      "cell_type": "code",
      "metadata": {
        "id": "c228a09d"
      },
      "source": [
        "%matplotlib inline"
      ],
      "id": "c228a09d",
      "execution_count": null,
      "outputs": []
    },
    {
      "cell_type": "code",
      "metadata": {
        "id": "157696a5"
      },
      "source": [
        "import networkx as nx\n",
        "import pandas as pd\n",
        "import numpy as np\n",
        "import operator\n",
        "import matplotlib.pyplot as plt\n",
        "\n",
        "from ipywidgets import interact, fixed, IntSlider\n",
        "from matplotlib.patches import Patch\n",
        "\n",
        "plt.rcParams[\"figure.figsize\"] = (12, 8)"
      ],
      "id": "157696a5",
      "execution_count": null,
      "outputs": []
    },
    {
      "cell_type": "code",
      "metadata": {
        "id": "566e910d"
      },
      "source": [
        "STATE = \"state\"\n",
        "STATE_HISTORY = \"state_history\"\n",
        "\n",
        "SUSCEPTIBLE = 0\n",
        "INFECTED = 1\n",
        "RECOVERED = 2\n",
        "\n",
        "STATE_COLORS = {\n",
        "    SUSCEPTIBLE: \"blue\",\n",
        "    INFECTED: \"red\",\n",
        "    RECOVERED: \"green\"\n",
        "    \n",
        "}\n",
        "\n",
        "SEED = 42"
      ],
      "id": "566e910d",
      "execution_count": null,
      "outputs": []
    },
    {
      "cell_type": "code",
      "metadata": {
        "id": "c0f5e672"
      },
      "source": [
        "def SIR_node_update(cur_state, neig_states, random_state, beta, gamma, **kwargs):\n",
        "    \"\"\"\n",
        "    This function implementsthe SIR model node update. It receives the\n",
        "    state of a node, the state of all nodes surrounding it and calculates\n",
        "    the probabilistic node update based on the SIR model formulation.\n",
        "    \n",
        "    Paramteres\n",
        "    ----------\n",
        "    cur_state: int\n",
        "        The state of the node for which the update will be calculated\n",
        "    neig_states: list of ints\n",
        "        The state of all the neighbours of the current state.\n",
        "    random_state: np.random.RandomState\n",
        "        This is the random state generator object. Use it to generate\n",
        "        any random number required within this function. This gurantees\n",
        "        a consisten output.\n",
        "    beta: float\n",
        "        The beta paramteter from the SIR model\n",
        "    gamma: float\n",
        "        The gamma paramters from the SIR model\n",
        "        \n",
        "    \"\"\"\n",
        "    \n",
        "### START CODE HERE\n",
        "### END CODE HERE\n",
        "    \n",
        "    return new_state\n"
      ],
      "id": "c0f5e672",
      "execution_count": null,
      "outputs": []
    },
    {
      "cell_type": "code",
      "metadata": {
        "id": "c1e80e59"
      },
      "source": [
        "def simulate_difussion(G, initial_states, random_state, update_func = None, **kwargs):\n",
        "\n",
        "    if update_func is None:\n",
        "        update_func = SIR_node_update\n",
        "    \n",
        "    [G.nodes[k].update({STATE: v}) for k, v in initial_states.items()]\n",
        "    [G.nodes[k].update({STATE_HISTORY: []}) for k, v in initial_states.items()]\n",
        "\n",
        "    T = 1\n",
        "    while True:\n",
        "\n",
        "        new_states = dict()\n",
        "        for cur in G.nodes():\n",
        "            neigs = list(G.neighbors(cur))\n",
        "            state_cur = G.nodes[cur][STATE]\n",
        "            state_neigs = [G.nodes[n][STATE] for n in neigs]\n",
        "\n",
        "            new_state = update_func(state_cur, state_neigs, random_state, **kwargs)\n",
        "            new_states[cur] = new_state\n",
        "\n",
        "        for cur in G.nodes():\n",
        "\n",
        "            old_state = G.nodes[cur][STATE]\n",
        "            new_state = new_states[cur]\n",
        "\n",
        "            G.nodes[cur][STATE_HISTORY].append(old_state)\n",
        "            G.nodes[cur].update({STATE: new_state})\n",
        "        \n",
        "        if sum(v == INFECTED for v in new_states.values()) == 0:\n",
        "            break\n",
        "        else:\n",
        "            T += 1\n",
        "    \n",
        "    T += 1\n",
        "    for n in G.nodes(): G.nodes[n][STATE_HISTORY].append(G.nodes[n][STATE])\n",
        "    \n",
        "    node_colors = dict(\n",
        "    (t, [STATE_COLORS[v[STATE_HISTORY][t]] for k, v in G.nodes(data=True)]) for t in range(T)\n",
        "    )\n",
        "    return node_colors, T"
      ],
      "id": "c1e80e59",
      "execution_count": null,
      "outputs": []
    },
    {
      "cell_type": "code",
      "metadata": {
        "id": "6b5f7f9c"
      },
      "source": [
        "def plot_difussion(t, G, colors, layout):\n",
        "    \n",
        "    legend_elements = [\n",
        "        Patch(facecolor=STATE_COLORS[SUSCEPTIBLE], edgecolor='k', label=\"Susceptible\"),\n",
        "        Patch(facecolor=STATE_COLORS[INFECTED], edgecolor='k', label='Infected'),\n",
        "        Patch(facecolor=STATE_COLORS[RECOVERED], edgecolor='k', label='Recovered')\n",
        "    ]\n",
        "\n",
        "    nx.draw_networkx_nodes(G, pos=layout, node_color=node_colors[t])\n",
        "    _ = nx.draw_networkx_labels(G, pos=layout)\n",
        "    nx.draw_networkx_edges(G, pos=layout)\n",
        "    \n",
        "    plt.legend(handles=legend_elements, loc=\"upper center\", bbox_to_anchor=(0.5, 1.1), ncol=3)\n",
        "    plt.title(f\"Timeslot: {t}\")\n",
        "    plt.show()"
      ],
      "id": "6b5f7f9c",
      "execution_count": null,
      "outputs": []
    },
    {
      "cell_type": "code",
      "metadata": {
        "id": "29B3u11uKj6-"
      },
      "source": [
        "def stats_difussion(G, view=True):\n",
        "\n",
        "  t_range = len(G.nodes[0][STATE_HISTORY])\n",
        "  susceptible = [sum([v[STATE_HISTORY][t] == SUSCEPTIBLE for k, v in G.nodes(data=True)]) for t in range(t_range)]\n",
        "  infected = [sum([v[STATE_HISTORY][t] == INFECTED for k, v in G.nodes(data=True)]) for t in range(t_range)]\n",
        "  recovered = [sum([v[STATE_HISTORY][t] == RECOVERED for k, v in G.nodes(data=True)]) for t in range(t_range)]\n",
        "\n",
        "  if view:\n",
        "    plt.plot(range(t_range), susceptible, color=STATE_COLORS[SUSCEPTIBLE], linestyle = 'dashed', alpha=0.3)\n",
        "    plt.plot(range(t_range), infected, color=STATE_COLORS[INFECTED])        \n",
        "    plt.plot(range(t_range), recovered, color=STATE_COLORS[RECOVERED], linestyle = 'dashed', alpha=0.3)\n",
        "    legend_elements = [\n",
        "          Patch(facecolor=STATE_COLORS[SUSCEPTIBLE], edgecolor='k', label=\"Susceptible\"),\n",
        "          Patch(facecolor=STATE_COLORS[INFECTED], edgecolor='k', label='Infected'),\n",
        "          Patch(facecolor=STATE_COLORS[RECOVERED], edgecolor='k', label='Recovered')\n",
        "      ]\n",
        "    plt.legend(handles=legend_elements, loc=\"upper center\", bbox_to_anchor=(0.5, 1.1), ncol=3)\n",
        "    plt.title(\"Epidemic evolution\")\n",
        "    plt.xlabel(\"Time\")\n",
        "    plt.ylabel(\"# Population\")\n",
        "    plt.show()\n",
        "\n",
        "  return susceptible,infected,recovered\n"
      ],
      "id": "29B3u11uKj6-",
      "execution_count": null,
      "outputs": []
    },
    {
      "cell_type": "code",
      "metadata": {
        "id": "FGCO6UZ4Tsfx"
      },
      "source": [
        "def stats_trials(infected_trials, title='Epidemic evolution', view=True):\n",
        "  \n",
        "  t_range = max([len(i) for i in infected_trials])\n",
        "  sum_trials = np.zeros((t_range))\n",
        "  len_trials = np.zeros((t_range))\n",
        "  for i in infected_trials:\n",
        "    i = np.array(i)\n",
        "\n",
        "    l = np.ones(i.shape)\n",
        "    l.resize(sum_trials.shape)\n",
        "    len_trials = len_trials + l\n",
        "\n",
        "    i.resize(sum_trials.shape)\n",
        "    sum_trials = sum_trials + i\n",
        "\n",
        "  infected_mean = sum_trials/len_trials\n",
        "\n",
        "  if view:\n",
        "    for i in range(len(infected_trials)):\n",
        "        plt.plot(range(len(infected_trials[i])), infected_trials[i], color=STATE_COLORS[INFECTED], alpha=0.1)       \n",
        "\n",
        "    plt.plot(range(len(infected_mean)), infected_mean, color=STATE_COLORS[INFECTED])       \n",
        "    plt.title(title)\n",
        "    plt.xlabel(\"Time\")\n",
        "    plt.ylabel(\"# Population\")\n",
        "    plt.show()\n",
        "\n",
        "  return infected_mean"
      ],
      "id": "FGCO6UZ4Tsfx",
      "execution_count": null,
      "outputs": []
    },
    {
      "cell_type": "markdown",
      "metadata": {
        "id": "3W-VDXx4PpXw"
      },
      "source": [
        "# 1) Fundamentos en los procesos dinámicos de epidemias\n",
        "\n",
        "\n",
        "Seguir la Sección 8.5 del libro [SANDR], entendiendo los procesos epidémicos tradicionales del tipo SIR."
      ],
      "id": "3W-VDXx4PpXw"
    },
    {
      "cell_type": "markdown",
      "metadata": {
        "id": "3182a511"
      },
      "source": [
        "#2) Primer ejemplo, difusión en grafos lineales (caminos)\n",
        "\n",
        "Para empezar a explorar el primer modelo de difusión vamos a trabajar con uno de los grafos más simples de todos: el camino.\n",
        "\n",
        "El grafo camino es interesante desde el punto de vista de una epidemia, dado que una vez que un nodo se recupera, este impide la difusión del grafo entre los dos grupos de nodos a sus lados.\n",
        "\n",
        "Para empezar vamos a generar un grafo."
      ],
      "id": "3182a511"
    },
    {
      "cell_type": "code",
      "metadata": {
        "id": "f08c8d06"
      },
      "source": [
        "N=10\n",
        "G = nx.path_graph(N)\n",
        "initial_states = dict((n, SUSCEPTIBLE) for n in G.nodes())\n",
        "initial_states[1] = INFECTED\n",
        "layout = nx.spring_layout(G)"
      ],
      "id": "f08c8d06",
      "execution_count": null,
      "outputs": []
    },
    {
      "cell_type": "code",
      "metadata": {
        "id": "d185d4d7"
      },
      "source": [
        "r = np.random.RandomState(SEED - 1)\n",
        "node_colors, total_timeslots = simulate_difussion(\n",
        "    G,\n",
        "    initial_states,\n",
        "    r,\n",
        "    SIR_node_update,\n",
        "    beta=0.25,\n",
        "    gamma=0.1\n",
        ")"
      ],
      "id": "d185d4d7",
      "execution_count": null,
      "outputs": []
    },
    {
      "cell_type": "code",
      "metadata": {
        "id": "30cbb2dd"
      },
      "source": [
        "len(G.nodes(data=True)[8][STATE_HISTORY])"
      ],
      "id": "30cbb2dd",
      "execution_count": null,
      "outputs": []
    },
    {
      "cell_type": "markdown",
      "metadata": {
        "id": "JgqkkmweGH1q"
      },
      "source": [
        "Es posible ver la difusión de la epidemia, moviendose en el tiempo utilizando la barra de la siguiente figura."
      ],
      "id": "JgqkkmweGH1q"
    },
    {
      "cell_type": "code",
      "metadata": {
        "id": "98ece1d4"
      },
      "source": [
        "interact(\n",
        "    plot_difussion,\n",
        "    t=IntSlider(value=0, min=0, max=total_timeslots - 1),\n",
        "    G=fixed(G),\n",
        "    colors=fixed(node_colors),\n",
        "    layout=fixed(layout)\n",
        ")"
      ],
      "id": "98ece1d4",
      "execution_count": null,
      "outputs": []
    },
    {
      "cell_type": "markdown",
      "metadata": {
        "id": "exBoJgqIOx3_"
      },
      "source": [
        "También podemos ver como evoluciona la cantidad de infectados."
      ],
      "id": "exBoJgqIOx3_"
    },
    {
      "cell_type": "code",
      "metadata": {
        "id": "ESyt4EAyLk2N"
      },
      "source": [
        "_,_,_ = stats_difussion(G)"
      ],
      "id": "ESyt4EAyLk2N",
      "execution_count": null,
      "outputs": []
    },
    {
      "cell_type": "markdown",
      "metadata": {
        "id": "c37eecfa"
      },
      "source": [
        "#3) Difusión en grafo Erdös-Renyi\n",
        "\n",
        "Como segundo ejemplo de difusión vamos a considerar el caso de un grafo aleatorio Erdös-Renyi"
      ],
      "id": "c37eecfa"
    },
    {
      "cell_type": "code",
      "metadata": {
        "id": "581cb8c4"
      },
      "source": [
        "N, p = 28, 0.3\n",
        "G = nx.erdos_renyi_graph(n=N, p=p, seed=SEED)\n",
        "initial_states = dict((n, SUSCEPTIBLE) for n in G.nodes())\n",
        "initial_states[1] = INFECTED\n",
        "layout = nx.spring_layout(G)"
      ],
      "id": "581cb8c4",
      "execution_count": null,
      "outputs": []
    },
    {
      "cell_type": "code",
      "metadata": {
        "id": "ae757ca5"
      },
      "source": [
        "r = np.random.RandomState(SEED)\n",
        "node_colors, total_timeslots = simulate_difussion(\n",
        "    G,\n",
        "    initial_states,\n",
        "    r,\n",
        "    SIR_node_update,\n",
        "    beta=0.1,\n",
        "    gamma=0.1\n",
        ")"
      ],
      "id": "ae757ca5",
      "execution_count": null,
      "outputs": []
    },
    {
      "cell_type": "code",
      "metadata": {
        "id": "3a40b407"
      },
      "source": [
        "interact(\n",
        "    plot_difussion,\n",
        "    t=IntSlider(value=0, min=0, max=total_timeslots - 1),\n",
        "    G=fixed(G),\n",
        "    colors=fixed(node_colors),\n",
        "    layout=fixed(layout)\n",
        ")\n",
        "_,_,_ = stats_difussion(G)"
      ],
      "id": "3a40b407",
      "execution_count": null,
      "outputs": []
    },
    {
      "cell_type": "markdown",
      "metadata": {
        "id": "0f1758c4"
      },
      "source": [
        "##3.1) ¿Qué puede decir de la diferencia de velocidad con la que el proceso se esparse a través de la red para el caso del grafo camino y para el grafo Erdös-Renyi?"
      ],
      "id": "0f1758c4"
    },
    {
      "cell_type": "code",
      "metadata": {
        "id": "428b777b"
      },
      "source": [
        "### START CODE HERE\n",
        "### END CODE HERE\n"
      ],
      "id": "428b777b",
      "execution_count": null,
      "outputs": []
    },
    {
      "cell_type": "markdown",
      "metadata": {
        "id": "AoD7BD6Rxm0F"
      },
      "source": [
        "# 4) Difusión en grafos de distintos modelos\n",
        "\n",
        "Compararemos la difusión de la epidemia para los modelos:\n",
        "\n",
        "* Erdös-Renyi\n",
        "* Barabasi Albert\n",
        "* Watts Strogatz\n",
        "\n",
        "Para ver estadísticamente el resultado, realizaremos 20 pruebas por modelo, donde sortearemos la toppología y el vértice inicial.\n",
        "\n",
        "Para ser justos, intentaremos que todos los grafos tengan 250 vértices y 1250 aristias (aproximadamente).\n"
      ],
      "id": "AoD7BD6Rxm0F"
    },
    {
      "cell_type": "code",
      "metadata": {
        "id": "y20ZZgEwxm0G"
      },
      "source": [
        "#parámetros en común\n",
        "\n",
        "N = 250 #vertices\n",
        "\n",
        "#epidemia\n",
        "beta=0.5/20\n",
        "gamma=1.0/20\n",
        "\n",
        "trials = 20 #pruebas\n",
        "\n",
        "#mismo estado inicial para todos los grafos\n",
        "initial_states = dict((n, SUSCEPTIBLE) for n in range(N))\n",
        "initial_infected = np.random.randint(0,N-1, size=1)[0]\n",
        "#initial_states[1] = INFECTED\n",
        "initial_states[initial_infected] = INFECTED"
      ],
      "id": "y20ZZgEwxm0G",
      "execution_count": null,
      "outputs": []
    },
    {
      "cell_type": "markdown",
      "metadata": {
        "id": "sMx8HNVQxm0H"
      },
      "source": [
        "Simular Erdös-Renyi"
      ],
      "id": "sMx8HNVQxm0H"
    },
    {
      "cell_type": "code",
      "metadata": {
        "id": "JY8Nk3Njxm0H"
      },
      "source": [
        "p = 0.041\n",
        "infected_trials = []\n",
        "for i in range(trials):\n",
        "  G = nx.erdos_renyi_graph(n=N, p=p)\n",
        "\n",
        "  node_colors, total_timeslots = simulate_difussion(\n",
        "      G,\n",
        "      initial_states,\n",
        "      np.random.RandomState(SEED),\n",
        "      SIR_node_update,\n",
        "      beta=beta,\n",
        "      gamma=gamma\n",
        "  )\n",
        "\n",
        "  print(G.number_of_edges())\n",
        "\n",
        "  _, infected_i,_ = stats_difussion(G, view=False)\n",
        "  infected_trials.append(infected_i)\n",
        "\n",
        "infected_mean_erdosrenyi = stats_trials(infected_trials, title=\"Epidemic evolution: Erdös-Renyi\")"
      ],
      "id": "JY8Nk3Njxm0H",
      "execution_count": null,
      "outputs": []
    },
    {
      "cell_type": "markdown",
      "metadata": {
        "id": "BtlVOwMUxm0M"
      },
      "source": [
        "Simular Barabasi Albert"
      ],
      "id": "BtlVOwMUxm0M"
    },
    {
      "cell_type": "code",
      "metadata": {
        "id": "L2MECbSjxm0M"
      },
      "source": [
        "### START CODE HERE\n",
        "### END CODE HERE\n",
        "\n",
        "infected_mean_barabasi = stats_trials(infected_trials, title=\"Epidemic evolution: Barabasi Albert\")"
      ],
      "id": "L2MECbSjxm0M",
      "execution_count": null,
      "outputs": []
    },
    {
      "cell_type": "markdown",
      "metadata": {
        "id": "KUQOWdrLxm0N"
      },
      "source": [
        "Simular Watts Strogatz"
      ],
      "id": "KUQOWdrLxm0N"
    },
    {
      "cell_type": "code",
      "metadata": {
        "id": "_Mk_umRCxm0O"
      },
      "source": [
        "### START CODE HERE\n",
        "### END CODE HERE\n",
        "\n",
        "infected_mean_ws = stats_trials(infected_trials, title=\"Epidemic evolution: Watts Strogatz\")"
      ],
      "id": "_Mk_umRCxm0O",
      "execution_count": null,
      "outputs": []
    },
    {
      "cell_type": "markdown",
      "metadata": {
        "id": "XRgbR9mD3BTG"
      },
      "source": [
        "Resultado de la comparación"
      ],
      "id": "XRgbR9mD3BTG"
    },
    {
      "cell_type": "code",
      "metadata": {
        "id": "eUHsFO3c1-UQ"
      },
      "source": [
        "plt.plot(infected_mean_erdosrenyi, color='red')\n",
        "plt.plot(infected_mean_barabasi, color='green')\n",
        "plt.plot(infected_mean_ws, color='blue')\n",
        "plt.title(\"Evolución promedio de los distintos modelos\")\n",
        "plt.xlabel(\"Time\")\n",
        "plt.ylabel(\"# Population\")\n",
        "legend_elements = [\n",
        "          Patch(facecolor='red', edgecolor='k', label=\"Erdos Renyi\"),\n",
        "          Patch(facecolor='green', edgecolor='k', label='Barabasi Albert'),\n",
        "          Patch(facecolor='blue', edgecolor='k', label='Watts Strogatz')\n",
        "      ]\n",
        "plt.legend(handles=legend_elements, loc=\"upper center\", bbox_to_anchor=(0.5, 1.1), ncol=3)\n",
        "plt.show()\n"
      ],
      "id": "eUHsFO3c1-UQ",
      "execution_count": null,
      "outputs": []
    },
    {
      "cell_type": "markdown",
      "metadata": {
        "id": "f40bfb23"
      },
      "source": [
        "#5) Limitando el número máximo de infectados\n",
        "\n",
        "En esta sección intentaremos encontrar buenas estrategias para limitar y disminuir la máxima cantidad de nodos infectados a lo largo del proceso.\n",
        "\n",
        "Para esto vamos a permitirnos `inmunizar` a dos nodos (asignarles el estado inicial `RECUPERADO`) y evaluar el efecto de tal política en la epidemia.\n",
        "\n",
        "Para estos experimentos vamos a usar el [grafo de Tutte](https://en.wikipedia.org/wiki/Tutte_graph)\n",
        "\n",
        "Para simplificar la experimentación, vamos a asumir que la epidemia comienza en el nodo `3`."
      ],
      "id": "f40bfb23"
    },
    {
      "cell_type": "code",
      "metadata": {
        "id": "d687ea87"
      },
      "source": [
        "G = nx.tutte_graph()\n",
        "\n",
        "layout = nx.spring_layout(G, iterations=300, seed=SEED)\n",
        "\n",
        "initial_states = dict((n, SUSCEPTIBLE) for n in G.nodes())\n",
        "initial_states[3] = INFECTED"
      ],
      "id": "d687ea87",
      "execution_count": null,
      "outputs": []
    },
    {
      "cell_type": "code",
      "metadata": {
        "id": "92a96023"
      },
      "source": [
        "nx.draw_networkx(G, pos=layout)"
      ],
      "id": "92a96023",
      "execution_count": null,
      "outputs": []
    },
    {
      "cell_type": "code",
      "metadata": {
        "id": "f0ccd176"
      },
      "source": [
        "r = np.random.RandomState(SEED)\n",
        "node_colors, total_timeslots = simulate_difussion(\n",
        "    G,\n",
        "    initial_states,\n",
        "    r,\n",
        "    SIR_node_update,\n",
        "    beta=0.3,\n",
        "    gamma=0.05\n",
        ")"
      ],
      "id": "f0ccd176",
      "execution_count": null,
      "outputs": []
    },
    {
      "cell_type": "code",
      "metadata": {
        "id": "accc091c"
      },
      "source": [
        "interact(\n",
        "    plot_difussion,\n",
        "    t=IntSlider(value=0, min=0, max=total_timeslots - 1),\n",
        "    G=fixed(G),\n",
        "    colors=fixed(node_colors),\n",
        "    layout=fixed(layout)\n",
        ")"
      ],
      "id": "accc091c",
      "execution_count": null,
      "outputs": []
    },
    {
      "cell_type": "code",
      "metadata": {
        "id": "63ba891f"
      },
      "source": [
        "def maximum_infected(G):\n",
        "    \"\"\"\n",
        "    Calculates the total maximum of infected nodes\n",
        "    in any given timeslot.\n",
        "    \n",
        "    Parameters:\n",
        "    ------------\n",
        "    G: nx.Graph\n",
        "        The graph of the network. Assume that the epidemic has\n",
        "        already been simulated and that each node in the graph\n",
        "        contains the attribute `STATE_HISTORY`\n",
        "        \n",
        "    Returns\n",
        "    -------\n",
        "    max_infected: int\n",
        "        The maximum number of infected nodes in any timeslot.\n",
        "    \"\"\"\n",
        "    \n",
        "### START CODE HERE\n",
        "### END CODE HERE\n",
        "    "
      ],
      "id": "63ba891f",
      "execution_count": null,
      "outputs": []
    },
    {
      "cell_type": "code",
      "metadata": {
        "id": "d5e42942"
      },
      "source": [
        "assert maximum_infected(G) == 29 # Hay como máximo 29 infectados en la corrida por defecto"
      ],
      "id": "d5e42942",
      "execution_count": null,
      "outputs": []
    },
    {
      "cell_type": "markdown",
      "metadata": {
        "id": "de40a405"
      },
      "source": [
        "##5.1) Eligiendo el nodo para \"inmunizar\"\n",
        "\n",
        "Vamos a comprar las siguientes estrategias de inmunización:\n",
        "\n",
        "* Un vécino del primer nodo infectado (19)\n",
        "* El nodo con mayor `betweeness centrality`\n",
        "* Un nodo poco relacionado (nodo 37)\n",
        "\n",
        "Todos los otros parámetros permaneceran iguales."
      ],
      "id": "de40a405"
    },
    {
      "cell_type": "markdown",
      "metadata": {
        "id": "84361dfc"
      },
      "source": [
        "### Estratégia: Un vécino"
      ],
      "id": "84361dfc"
    },
    {
      "cell_type": "code",
      "metadata": {
        "id": "cddaaf21"
      },
      "source": [
        "initial_states_copy = initial_states.copy()\n",
        "initial_states_copy[19] = RECOVERED"
      ],
      "id": "cddaaf21",
      "execution_count": null,
      "outputs": []
    },
    {
      "cell_type": "code",
      "metadata": {
        "id": "ce82f5f0"
      },
      "source": [
        "r = np.random.RandomState(SEED)\n",
        "node_colors, total_timeslots = simulate_difussion(\n",
        "    G,\n",
        "    initial_states_copy,\n",
        "    r,\n",
        "    SIR_node_update,\n",
        "    beta=0.3,\n",
        "    gamma=0.05\n",
        ")"
      ],
      "id": "ce82f5f0",
      "execution_count": null,
      "outputs": []
    },
    {
      "cell_type": "code",
      "metadata": {
        "id": "f92d009a"
      },
      "source": [
        "maximum_infected(G)"
      ],
      "id": "f92d009a",
      "execution_count": null,
      "outputs": []
    },
    {
      "cell_type": "markdown",
      "metadata": {
        "id": "3d2bdfd7"
      },
      "source": [
        "Logramos reducir la maxima cantidad de infectados en 1."
      ],
      "id": "3d2bdfd7"
    },
    {
      "cell_type": "markdown",
      "metadata": {
        "id": "adff5171"
      },
      "source": [
        "### Estrategia: Mayor `betweeness centrality`"
      ],
      "id": "adff5171"
    },
    {
      "cell_type": "code",
      "metadata": {
        "id": "1799accb"
      },
      "source": [
        "### START CODE HERE\n",
        "### END CODE HERE\n"
      ],
      "id": "1799accb",
      "execution_count": null,
      "outputs": []
    },
    {
      "cell_type": "code",
      "metadata": {
        "id": "83d7af4c"
      },
      "source": [
        "initial_states_copy = initial_states.copy()\n",
        "initial_states_copy[selected_node] = RECOVERED"
      ],
      "id": "83d7af4c",
      "execution_count": null,
      "outputs": []
    },
    {
      "cell_type": "code",
      "metadata": {
        "id": "d358293b"
      },
      "source": [
        "r = np.random.RandomState(SEED)\n",
        "node_colors, total_timeslots = simulate_difussion(\n",
        "    G,\n",
        "    initial_states_copy,\n",
        "    r,\n",
        "    SIR_node_update,\n",
        "    beta=0.3,\n",
        "    gamma=0.05\n",
        ")"
      ],
      "id": "d358293b",
      "execution_count": null,
      "outputs": []
    },
    {
      "cell_type": "code",
      "metadata": {
        "id": "1906a99b"
      },
      "source": [
        "maximum_infected(G)"
      ],
      "id": "1906a99b",
      "execution_count": null,
      "outputs": []
    },
    {
      "cell_type": "markdown",
      "metadata": {
        "id": "597caa16"
      },
      "source": [
        "Logramos reducir la maxima cantidad de infectados en 5."
      ],
      "id": "597caa16"
    },
    {
      "cell_type": "markdown",
      "metadata": {
        "id": "8801683e"
      },
      "source": [
        "### Estrategia: Nodo poco relacionado (37)"
      ],
      "id": "8801683e"
    },
    {
      "cell_type": "code",
      "metadata": {
        "id": "fe00ee00"
      },
      "source": [
        "initial_states_copy = initial_states.copy()\n",
        "initial_states_copy[37] = RECOVERED"
      ],
      "id": "fe00ee00",
      "execution_count": null,
      "outputs": []
    },
    {
      "cell_type": "code",
      "metadata": {
        "id": "a260345f"
      },
      "source": [
        "r = np.random.RandomState(SEED)\n",
        "node_colors, total_timeslots = simulate_difussion(\n",
        "    G,\n",
        "    initial_states_copy,\n",
        "    r,\n",
        "    SIR_node_update,\n",
        "    beta=0.3,\n",
        "    gamma=0.05\n",
        ")"
      ],
      "id": "a260345f",
      "execution_count": null,
      "outputs": []
    },
    {
      "cell_type": "code",
      "metadata": {
        "id": "269c610e"
      },
      "source": [
        "maximum_infected(G)"
      ],
      "id": "269c610e",
      "execution_count": null,
      "outputs": []
    },
    {
      "cell_type": "markdown",
      "metadata": {
        "id": "00ba51b7"
      },
      "source": [
        "Logramos reducir la maxima cantidad de infectados en 2."
      ],
      "id": "00ba51b7"
    }
  ]
}